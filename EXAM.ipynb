{
 "cells": [
  {
   "cell_type": "markdown",
   "id": "18102859-35c9-466c-9e8e-541c4375af7e",
   "metadata": {},
   "source": [
    "<div style=\" background-color: RGB(0,150,250);\" >\n",
    "<h2 style=\"margin: auto; padding: 20px 0; color:#fff; text-align: center\">Algorithme de détection automatique de faux billets\n",
    "</h2>\n",
    "</div>"
   ]
  },
  {
   "cell_type": "markdown",
   "id": "d6c23761-496b-44df-ae51-1bdac0e3a5b0",
   "metadata": {
    "tags": []
   },
   "source": [
    "## 1. CONTEXTE\n",
    "\n",
    "Dans notre cas, le problème que nous allons explorer est la **classification binaire** (un échantillon ne peut être qu'une des deux choses).\n",
    "\n",
    "Nous souhaitons mettre en place un algorithme capable de différencier\n",
    "automatiquement les vrais des faux billets en euros, à partir de leurs\n",
    "caractéristiques géométriques mesurées par une machine.\n",
    "Ce projet s’inscrit dans une démarche de lutte contre la contrefaçon de billets.\n",
    "\n",
    "En d'autres termes,\n",
    "\n",
    "> **En se basant sur des paramètres concernant un billet, pouvons-nous prédire s'il est ou non un faux billet ?**\n",
    "\n",
    "## 2. OBJECTIFS\n",
    "\n",
    "Une machine mesure plusieurs dimensions sur chaque billet.\n",
    "Au fil des années, des différences systématiques ont été détectées entre les vrais et\n",
    "les faux billets, invisibles à l’œil nu, mais exploitables par un algorithme.\n",
    "L’objectif est donc de construire un modèle capable, à partir de ces mesures\n",
    "géométriques, de prédire si un billet est vrai ou faux.\n",
    "\n",
    "> **Nous utilisons les variables indépendantes pour prédire notre variable dépendante.**\n",
    "\n",
    "\n",
    "## 3. DONNEES\n",
    "\n",
    "##### Caractéristiques disponibles :\n",
    "Chaque billet est décrit par 6 variables géométriques :\n",
    "\n",
    "- length : longueur du billet (en mm)\n",
    "- height_left : hauteur à gauche (en mm)\n",
    "- height_right : hauteur à droite (en mm)\n",
    "- margin_up : marge entre le haut du billet et l’image (en mm)\n",
    "- margin_low : marge entre le bas du billet et l’image (en mm)\n",
    "- diagonal : diagonale du billet (en mm)\n",
    "\n",
    "Un fichier d’exemple est fourni, contenant :\n",
    "- 1 500 billets  \n",
    " o 1 000 vrais  \n",
    " o 500 faux\n",
    "- Une colonne spécifie la nature (vrai ou faux)\n",
    "\n",
    "\n",
    "\n",
    "\n"
   ]
  },
  {
   "cell_type": "code",
   "execution_count": 1,
   "id": "e2c32df4-351b-4ee6-ae5d-3574d65649f6",
   "metadata": {
    "tags": []
   },
   "outputs": [],
   "source": [
    "# importons nos librairies \n",
    "import pandas as pd\n",
    "import numpy as np\n",
    "import matplotlib.pyplot as plt\n",
    "import seaborn as sns\n",
    "import plotly.express as px"
   ]
  },
  {
   "cell_type": "markdown",
   "id": "cec2f5cd-20f3-499e-a4ad-a292a59c0b18",
   "metadata": {
    "tags": []
   },
   "source": [
    "<div style=\"background-color: RGB(0,150,250);\" >\n",
    "<h2 style=\"margin: auto; padding: 20px; color:#fff; \">1. Analyse Exploratoire des données</h2>\n",
    "</div>"
   ]
  },
  {
   "cell_type": "markdown",
   "id": "4044a05b-7529-4fd0-8a8a-4583383d21a4",
   "metadata": {
    "tags": []
   },
   "source": [
    "<div style=\"border: 1px solid RGB(0,150,250);\" >\n",
    "<h3 style=\"margin: auto; padding: 20px; color: RGB(0,150,250); \">1.1 - Chargement et aperçu des données </h3>\n",
    "</div>"
   ]
  },
  {
   "cell_type": "code",
   "execution_count": 2,
   "id": "5f2feb53-ed18-4b13-80e8-ab13aa429536",
   "metadata": {},
   "outputs": [
    {
     "data": {
      "text/html": [
       "<div>\n",
       "<style scoped>\n",
       "    .dataframe tbody tr th:only-of-type {\n",
       "        vertical-align: middle;\n",
       "    }\n",
       "\n",
       "    .dataframe tbody tr th {\n",
       "        vertical-align: top;\n",
       "    }\n",
       "\n",
       "    .dataframe thead th {\n",
       "        text-align: right;\n",
       "    }\n",
       "</style>\n",
       "<table border=\"1\" class=\"dataframe\">\n",
       "  <thead>\n",
       "    <tr style=\"text-align: right;\">\n",
       "      <th></th>\n",
       "      <th>is_genuine</th>\n",
       "      <th>diagonal</th>\n",
       "      <th>height_left</th>\n",
       "      <th>height_right</th>\n",
       "      <th>margin_low</th>\n",
       "      <th>margin_up</th>\n",
       "      <th>length</th>\n",
       "    </tr>\n",
       "  </thead>\n",
       "  <tbody>\n",
       "    <tr>\n",
       "      <th>0</th>\n",
       "      <td>True</td>\n",
       "      <td>171.81</td>\n",
       "      <td>104.86</td>\n",
       "      <td>104.95</td>\n",
       "      <td>4.52</td>\n",
       "      <td>2.89</td>\n",
       "      <td>112.83</td>\n",
       "    </tr>\n",
       "    <tr>\n",
       "      <th>1</th>\n",
       "      <td>True</td>\n",
       "      <td>171.46</td>\n",
       "      <td>103.36</td>\n",
       "      <td>103.66</td>\n",
       "      <td>3.77</td>\n",
       "      <td>2.99</td>\n",
       "      <td>113.09</td>\n",
       "    </tr>\n",
       "    <tr>\n",
       "      <th>2</th>\n",
       "      <td>True</td>\n",
       "      <td>172.69</td>\n",
       "      <td>104.48</td>\n",
       "      <td>103.50</td>\n",
       "      <td>4.40</td>\n",
       "      <td>2.94</td>\n",
       "      <td>113.16</td>\n",
       "    </tr>\n",
       "    <tr>\n",
       "      <th>3</th>\n",
       "      <td>True</td>\n",
       "      <td>171.36</td>\n",
       "      <td>103.91</td>\n",
       "      <td>103.94</td>\n",
       "      <td>3.62</td>\n",
       "      <td>3.01</td>\n",
       "      <td>113.51</td>\n",
       "    </tr>\n",
       "    <tr>\n",
       "      <th>4</th>\n",
       "      <td>True</td>\n",
       "      <td>171.73</td>\n",
       "      <td>104.28</td>\n",
       "      <td>103.46</td>\n",
       "      <td>4.04</td>\n",
       "      <td>3.48</td>\n",
       "      <td>112.54</td>\n",
       "    </tr>\n",
       "  </tbody>\n",
       "</table>\n",
       "</div>"
      ],
      "text/plain": [
       "   is_genuine  diagonal  height_left  height_right  margin_low  margin_up  \\\n",
       "0        True    171.81       104.86        104.95        4.52       2.89   \n",
       "1        True    171.46       103.36        103.66        3.77       2.99   \n",
       "2        True    172.69       104.48        103.50        4.40       2.94   \n",
       "3        True    171.36       103.91        103.94        3.62       3.01   \n",
       "4        True    171.73       104.28        103.46        4.04       3.48   \n",
       "\n",
       "   length  \n",
       "0  112.83  \n",
       "1  113.09  \n",
       "2  113.16  \n",
       "3  113.51  \n",
       "4  112.54  "
      ]
     },
     "execution_count": 2,
     "metadata": {},
     "output_type": "execute_result"
    }
   ],
   "source": [
    "df = pd.read_csv('billets.csv', sep =\";\") \n",
    "df.head()"
   ]
  },
  {
   "cell_type": "code",
   "execution_count": 3,
   "id": "dc198dca-f6a4-4b28-82f9-eb67c3b61c11",
   "metadata": {},
   "outputs": [
    {
     "data": {
      "text/html": [
       "<div>\n",
       "<style scoped>\n",
       "    .dataframe tbody tr th:only-of-type {\n",
       "        vertical-align: middle;\n",
       "    }\n",
       "\n",
       "    .dataframe tbody tr th {\n",
       "        vertical-align: top;\n",
       "    }\n",
       "\n",
       "    .dataframe thead th {\n",
       "        text-align: right;\n",
       "    }\n",
       "</style>\n",
       "<table border=\"1\" class=\"dataframe\">\n",
       "  <thead>\n",
       "    <tr style=\"text-align: right;\">\n",
       "      <th></th>\n",
       "      <th>is_genuine</th>\n",
       "      <th>diagonal</th>\n",
       "      <th>height_left</th>\n",
       "      <th>height_right</th>\n",
       "      <th>margin_low</th>\n",
       "      <th>margin_up</th>\n",
       "      <th>length</th>\n",
       "    </tr>\n",
       "  </thead>\n",
       "  <tbody>\n",
       "    <tr>\n",
       "      <th>1495</th>\n",
       "      <td>False</td>\n",
       "      <td>171.75</td>\n",
       "      <td>104.38</td>\n",
       "      <td>104.17</td>\n",
       "      <td>4.42</td>\n",
       "      <td>3.09</td>\n",
       "      <td>111.28</td>\n",
       "    </tr>\n",
       "    <tr>\n",
       "      <th>1496</th>\n",
       "      <td>False</td>\n",
       "      <td>172.19</td>\n",
       "      <td>104.63</td>\n",
       "      <td>104.44</td>\n",
       "      <td>5.27</td>\n",
       "      <td>3.37</td>\n",
       "      <td>110.97</td>\n",
       "    </tr>\n",
       "    <tr>\n",
       "      <th>1497</th>\n",
       "      <td>False</td>\n",
       "      <td>171.80</td>\n",
       "      <td>104.01</td>\n",
       "      <td>104.12</td>\n",
       "      <td>5.51</td>\n",
       "      <td>3.36</td>\n",
       "      <td>111.95</td>\n",
       "    </tr>\n",
       "    <tr>\n",
       "      <th>1498</th>\n",
       "      <td>False</td>\n",
       "      <td>172.06</td>\n",
       "      <td>104.28</td>\n",
       "      <td>104.06</td>\n",
       "      <td>5.17</td>\n",
       "      <td>3.46</td>\n",
       "      <td>112.25</td>\n",
       "    </tr>\n",
       "    <tr>\n",
       "      <th>1499</th>\n",
       "      <td>False</td>\n",
       "      <td>171.47</td>\n",
       "      <td>104.15</td>\n",
       "      <td>103.82</td>\n",
       "      <td>4.63</td>\n",
       "      <td>3.37</td>\n",
       "      <td>112.07</td>\n",
       "    </tr>\n",
       "  </tbody>\n",
       "</table>\n",
       "</div>"
      ],
      "text/plain": [
       "      is_genuine  diagonal  height_left  height_right  margin_low  margin_up  \\\n",
       "1495       False    171.75       104.38        104.17        4.42       3.09   \n",
       "1496       False    172.19       104.63        104.44        5.27       3.37   \n",
       "1497       False    171.80       104.01        104.12        5.51       3.36   \n",
       "1498       False    172.06       104.28        104.06        5.17       3.46   \n",
       "1499       False    171.47       104.15        103.82        4.63       3.37   \n",
       "\n",
       "      length  \n",
       "1495  111.28  \n",
       "1496  110.97  \n",
       "1497  111.95  \n",
       "1498  112.25  \n",
       "1499  112.07  "
      ]
     },
     "execution_count": 3,
     "metadata": {},
     "output_type": "execute_result"
    }
   ],
   "source": [
    "df.tail()"
   ]
  },
  {
   "cell_type": "code",
   "execution_count": 4,
   "id": "965913f0-3ec6-46c2-9580-cc720306046e",
   "metadata": {},
   "outputs": [
    {
     "data": {
      "text/plain": [
       "(1500, 7)"
      ]
     },
     "execution_count": 4,
     "metadata": {},
     "output_type": "execute_result"
    }
   ],
   "source": [
    "df.shape"
   ]
  },
  {
   "cell_type": "markdown",
   "id": "46a2e63c-18ee-4ca8-b521-6d13ae34e203",
   "metadata": {},
   "source": [
    "> **Notre DataFrame est composé de 1500 lignes et 7 colonnes**"
   ]
  },
  {
   "cell_type": "code",
   "execution_count": 5,
   "id": "2589253b-f815-47e2-8be2-df580718cb94",
   "metadata": {},
   "outputs": [
    {
     "name": "stdout",
     "output_type": "stream",
     "text": [
      "<class 'pandas.core.frame.DataFrame'>\n",
      "RangeIndex: 1500 entries, 0 to 1499\n",
      "Data columns (total 7 columns):\n",
      " #   Column        Non-Null Count  Dtype  \n",
      "---  ------        --------------  -----  \n",
      " 0   is_genuine    1500 non-null   bool   \n",
      " 1   diagonal      1500 non-null   float64\n",
      " 2   height_left   1500 non-null   float64\n",
      " 3   height_right  1500 non-null   float64\n",
      " 4   margin_low    1463 non-null   float64\n",
      " 5   margin_up     1500 non-null   float64\n",
      " 6   length        1500 non-null   float64\n",
      "dtypes: bool(1), float64(6)\n",
      "memory usage: 71.9 KB\n"
     ]
    }
   ],
   "source": [
    "df.info()"
   ]
  },
  {
   "cell_type": "code",
   "execution_count": 6,
   "id": "a40d39d6-ea43-4f63-99f1-b42ce659f883",
   "metadata": {},
   "outputs": [
    {
     "data": {
      "text/html": [
       "<div>\n",
       "<style scoped>\n",
       "    .dataframe tbody tr th:only-of-type {\n",
       "        vertical-align: middle;\n",
       "    }\n",
       "\n",
       "    .dataframe tbody tr th {\n",
       "        vertical-align: top;\n",
       "    }\n",
       "\n",
       "    .dataframe thead th {\n",
       "        text-align: right;\n",
       "    }\n",
       "</style>\n",
       "<table border=\"1\" class=\"dataframe\">\n",
       "  <thead>\n",
       "    <tr style=\"text-align: right;\">\n",
       "      <th></th>\n",
       "      <th>count</th>\n",
       "      <th>mean</th>\n",
       "      <th>std</th>\n",
       "      <th>min</th>\n",
       "      <th>25%</th>\n",
       "      <th>50%</th>\n",
       "      <th>75%</th>\n",
       "      <th>max</th>\n",
       "    </tr>\n",
       "  </thead>\n",
       "  <tbody>\n",
       "    <tr>\n",
       "      <th>diagonal</th>\n",
       "      <td>1500.0</td>\n",
       "      <td>171.958440</td>\n",
       "      <td>0.305195</td>\n",
       "      <td>171.04</td>\n",
       "      <td>171.750</td>\n",
       "      <td>171.96</td>\n",
       "      <td>172.17</td>\n",
       "      <td>173.01</td>\n",
       "    </tr>\n",
       "    <tr>\n",
       "      <th>height_left</th>\n",
       "      <td>1500.0</td>\n",
       "      <td>104.029533</td>\n",
       "      <td>0.299462</td>\n",
       "      <td>103.14</td>\n",
       "      <td>103.820</td>\n",
       "      <td>104.04</td>\n",
       "      <td>104.23</td>\n",
       "      <td>104.88</td>\n",
       "    </tr>\n",
       "    <tr>\n",
       "      <th>height_right</th>\n",
       "      <td>1500.0</td>\n",
       "      <td>103.920307</td>\n",
       "      <td>0.325627</td>\n",
       "      <td>102.82</td>\n",
       "      <td>103.710</td>\n",
       "      <td>103.92</td>\n",
       "      <td>104.15</td>\n",
       "      <td>104.95</td>\n",
       "    </tr>\n",
       "    <tr>\n",
       "      <th>margin_low</th>\n",
       "      <td>1463.0</td>\n",
       "      <td>4.485967</td>\n",
       "      <td>0.663813</td>\n",
       "      <td>2.98</td>\n",
       "      <td>4.015</td>\n",
       "      <td>4.31</td>\n",
       "      <td>4.87</td>\n",
       "      <td>6.90</td>\n",
       "    </tr>\n",
       "    <tr>\n",
       "      <th>margin_up</th>\n",
       "      <td>1500.0</td>\n",
       "      <td>3.151473</td>\n",
       "      <td>0.231813</td>\n",
       "      <td>2.27</td>\n",
       "      <td>2.990</td>\n",
       "      <td>3.14</td>\n",
       "      <td>3.31</td>\n",
       "      <td>3.91</td>\n",
       "    </tr>\n",
       "    <tr>\n",
       "      <th>length</th>\n",
       "      <td>1500.0</td>\n",
       "      <td>112.678500</td>\n",
       "      <td>0.872730</td>\n",
       "      <td>109.49</td>\n",
       "      <td>112.030</td>\n",
       "      <td>112.96</td>\n",
       "      <td>113.34</td>\n",
       "      <td>114.44</td>\n",
       "    </tr>\n",
       "  </tbody>\n",
       "</table>\n",
       "</div>"
      ],
      "text/plain": [
       "               count        mean       std     min      25%     50%     75%  \\\n",
       "diagonal      1500.0  171.958440  0.305195  171.04  171.750  171.96  172.17   \n",
       "height_left   1500.0  104.029533  0.299462  103.14  103.820  104.04  104.23   \n",
       "height_right  1500.0  103.920307  0.325627  102.82  103.710  103.92  104.15   \n",
       "margin_low    1463.0    4.485967  0.663813    2.98    4.015    4.31    4.87   \n",
       "margin_up     1500.0    3.151473  0.231813    2.27    2.990    3.14    3.31   \n",
       "length        1500.0  112.678500  0.872730  109.49  112.030  112.96  113.34   \n",
       "\n",
       "                 max  \n",
       "diagonal      173.01  \n",
       "height_left   104.88  \n",
       "height_right  104.95  \n",
       "margin_low      6.90  \n",
       "margin_up       3.91  \n",
       "length        114.44  "
      ]
     },
     "execution_count": 6,
     "metadata": {},
     "output_type": "execute_result"
    }
   ],
   "source": [
    "df.describe().T"
   ]
  },
  {
   "cell_type": "code",
   "execution_count": 7,
   "id": "82e4718a-5604-43db-b3ef-caa15df6480c",
   "metadata": {},
   "outputs": [
    {
     "data": {
      "text/plain": [
       "is_genuine\n",
       "True     1000\n",
       "False     500\n",
       "Name: count, dtype: int64"
      ]
     },
     "execution_count": 7,
     "metadata": {},
     "output_type": "execute_result"
    }
   ],
   "source": [
    "df['is_genuine'].value_counts()"
   ]
  },
  {
   "cell_type": "markdown",
   "id": "8e567d06-134f-4d34-ac6a-d9609d1abed4",
   "metadata": {},
   "source": [
    "> **Notre Target est composé de 1000 vrais billets et de 500 faux billets**"
   ]
  },
  {
   "cell_type": "code",
   "execution_count": 8,
   "id": "031c174e-8055-4cf4-a854-0fb87ed4ca67",
   "metadata": {},
   "outputs": [
    {
     "data": {
      "text/html": [
       "<div>\n",
       "<style scoped>\n",
       "    .dataframe tbody tr th:only-of-type {\n",
       "        vertical-align: middle;\n",
       "    }\n",
       "\n",
       "    .dataframe tbody tr th {\n",
       "        vertical-align: top;\n",
       "    }\n",
       "\n",
       "    .dataframe thead th {\n",
       "        text-align: right;\n",
       "    }\n",
       "</style>\n",
       "<table border=\"1\" class=\"dataframe\">\n",
       "  <thead>\n",
       "    <tr style=\"text-align: right;\">\n",
       "      <th></th>\n",
       "      <th>is_genuine</th>\n",
       "      <th>diagonal</th>\n",
       "      <th>height_left</th>\n",
       "      <th>height_right</th>\n",
       "      <th>margin_low</th>\n",
       "      <th>margin_up</th>\n",
       "      <th>length</th>\n",
       "    </tr>\n",
       "  </thead>\n",
       "  <tbody>\n",
       "    <tr>\n",
       "      <th>is_genuine</th>\n",
       "      <td>1.000000</td>\n",
       "      <td>0.132756</td>\n",
       "      <td>-0.379833</td>\n",
       "      <td>-0.485092</td>\n",
       "      <td>-0.783032</td>\n",
       "      <td>-0.606262</td>\n",
       "      <td>0.849285</td>\n",
       "    </tr>\n",
       "    <tr>\n",
       "      <th>diagonal</th>\n",
       "      <td>0.132756</td>\n",
       "      <td>1.000000</td>\n",
       "      <td>0.019472</td>\n",
       "      <td>-0.024492</td>\n",
       "      <td>-0.111534</td>\n",
       "      <td>-0.055649</td>\n",
       "      <td>0.097587</td>\n",
       "    </tr>\n",
       "    <tr>\n",
       "      <th>height_left</th>\n",
       "      <td>-0.379833</td>\n",
       "      <td>0.019472</td>\n",
       "      <td>1.000000</td>\n",
       "      <td>0.242279</td>\n",
       "      <td>0.302643</td>\n",
       "      <td>0.246522</td>\n",
       "      <td>-0.320863</td>\n",
       "    </tr>\n",
       "    <tr>\n",
       "      <th>height_right</th>\n",
       "      <td>-0.485092</td>\n",
       "      <td>-0.024492</td>\n",
       "      <td>0.242279</td>\n",
       "      <td>1.000000</td>\n",
       "      <td>0.391085</td>\n",
       "      <td>0.307005</td>\n",
       "      <td>-0.401751</td>\n",
       "    </tr>\n",
       "    <tr>\n",
       "      <th>margin_low</th>\n",
       "      <td>-0.783032</td>\n",
       "      <td>-0.111534</td>\n",
       "      <td>0.302643</td>\n",
       "      <td>0.391085</td>\n",
       "      <td>1.000000</td>\n",
       "      <td>0.431606</td>\n",
       "      <td>-0.666753</td>\n",
       "    </tr>\n",
       "    <tr>\n",
       "      <th>margin_up</th>\n",
       "      <td>-0.606262</td>\n",
       "      <td>-0.055649</td>\n",
       "      <td>0.246522</td>\n",
       "      <td>0.307005</td>\n",
       "      <td>0.431606</td>\n",
       "      <td>1.000000</td>\n",
       "      <td>-0.520575</td>\n",
       "    </tr>\n",
       "    <tr>\n",
       "      <th>length</th>\n",
       "      <td>0.849285</td>\n",
       "      <td>0.097587</td>\n",
       "      <td>-0.320863</td>\n",
       "      <td>-0.401751</td>\n",
       "      <td>-0.666753</td>\n",
       "      <td>-0.520575</td>\n",
       "      <td>1.000000</td>\n",
       "    </tr>\n",
       "  </tbody>\n",
       "</table>\n",
       "</div>"
      ],
      "text/plain": [
       "              is_genuine  diagonal  height_left  height_right  margin_low  \\\n",
       "is_genuine      1.000000  0.132756    -0.379833     -0.485092   -0.783032   \n",
       "diagonal        0.132756  1.000000     0.019472     -0.024492   -0.111534   \n",
       "height_left    -0.379833  0.019472     1.000000      0.242279    0.302643   \n",
       "height_right   -0.485092 -0.024492     0.242279      1.000000    0.391085   \n",
       "margin_low     -0.783032 -0.111534     0.302643      0.391085    1.000000   \n",
       "margin_up      -0.606262 -0.055649     0.246522      0.307005    0.431606   \n",
       "length          0.849285  0.097587    -0.320863     -0.401751   -0.666753   \n",
       "\n",
       "              margin_up    length  \n",
       "is_genuine    -0.606262  0.849285  \n",
       "diagonal      -0.055649  0.097587  \n",
       "height_left    0.246522 -0.320863  \n",
       "height_right   0.307005 -0.401751  \n",
       "margin_low     0.431606 -0.666753  \n",
       "margin_up      1.000000 -0.520575  \n",
       "length        -0.520575  1.000000  "
      ]
     },
     "execution_count": 8,
     "metadata": {},
     "output_type": "execute_result"
    }
   ],
   "source": [
    "df.corr()"
   ]
  },
  {
   "cell_type": "markdown",
   "id": "79088ca4-de7f-4503-87fe-73e0630d1149",
   "metadata": {},
   "source": [
    "<div style=\"border: 1px solid RGB(0,150,250);\" >\n",
    "<h3 style=\"margin: auto; padding: 20px; color: RGB(0,150,250); \">1.2 - Visualisations </h3>\n",
    "</div>"
   ]
  },
  {
   "cell_type": "code",
   "execution_count": 9,
   "id": "49dc2324-1177-48c1-8aaf-9741b2d9d1b5",
   "metadata": {},
   "outputs": [
    {
     "data": {
      "text/plain": [
       "<Axes: xlabel='is_genuine'>"
      ]
     },
     "execution_count": 9,
     "metadata": {},
     "output_type": "execute_result"
    },
    {
     "data": {
      "image/png": "[encoded data removed]",
      "text/plain": [
       "<Figure size 640x480 with 1 Axes>"
      ]
     },
     "metadata": {},
     "output_type": "display_data"
    }
   ],
   "source": [
    "df.is_genuine.value_counts().plot(kind= \"bar\")"
   ]
  },
  {
   "cell_type": "markdown",
   "id": "8266f72f-bbed-4f9f-a684-4eacaf40e911",
   "metadata": {},
   "source": [
    "> **Notre diagramme en barres montre la répartition entre les vrais et les faux billets de nos données**"
   ]
  },
  {
   "cell_type": "code",
   "execution_count": 10,
   "id": "08ba346d-fd96-4654-8ea2-d80b20b43a57",
   "metadata": {},
   "outputs": [
    {
     "data": {
      "image/png": "[encoded data removed]",
      "text/plain": [
       "<Figure size 1800x1200 with 2 Axes>"
      ]
     },
     "metadata": {},
     "output_type": "display_data"
    }
   ],
   "source": [
    "plt.figure(figsize=(18, 12))\n",
    "sns.heatmap(df.corr(), annot=True, linewidths=0.5, fmt= \".2f\", cmap=\"YlGnBu\");"
   ]
  },
  {
   "cell_type": "code",
   "execution_count": 11,
   "id": "fcd4c9ee-4088-4471-b658-55c8a7714840",
   "metadata": {},
   "outputs": [
    {
     "data": {
      "image/png": "[encoded data removed]",
      "text/plain": [
       "<Figure size 1200x700 with 1 Axes>"
      ]
     },
     "metadata": {},
     "output_type": "display_data"
    }
   ],
   "source": [
    "plt.figure(figsize=(12,7))\n",
    "sns.boxplot(x = 'is_genuine', hue = 'is_genuine', y = 'length', data=df, palette ='winter')\n",
    "plt.title('Longueur du billet selon l\\'étiquette')\n",
    "plt.show()"
   ]
  },
  {
   "cell_type": "markdown",
   "id": "95db7b16-1386-4b3c-87a9-990418286b74",
   "metadata": {},
   "source": [
    ">**Dans cette visualisation nous constatons une médiane nettement plus basse pour les faux billets**  \n",
    " **C’est un signe de différenciation claire entre les billets: les faux billets sont plus courts en moyenne.**"
   ]
  },
  {
   "cell_type": "code",
   "execution_count": 12,
   "id": "14cbea0c-1ec5-406a-a8a7-bbb418162b2d",
   "metadata": {},
   "outputs": [
    {
     "data": {
      "image/png": "[encoded data removed]",
      "text/plain": [
       "<Figure size 1200x700 with 1 Axes>"
      ]
     },
     "metadata": {},
     "output_type": "display_data"
    }
   ],
   "source": [
    "plt.figure(figsize=(12,7))\n",
    "sns.boxplot(x = 'is_genuine', hue = 'is_genuine', y = 'diagonal', data=df, palette ='winter')\n",
    "plt.title('Diagonale du billet selon l\\'étiquette')\n",
    "plt.show()"
   ]
  },
  {
   "cell_type": "markdown",
   "id": "03163cdc-1002-4efd-a4b8-37128ac1ab96",
   "metadata": {},
   "source": [
    "> **Dans cette visualisation, on observe une médiane légèrement plus élevée pour les vrais billets.**  \n",
    "**Les différences sont faibles, donc la diagonale ne permet pas de distinguer clairement les vrais des faux billets à elle seule.**"
   ]
  },
  {
   "cell_type": "markdown",
   "id": "199b1a2d-0470-42d7-ba90-1ed7240912e0",
   "metadata": {},
   "source": [
    "<div style=\"border: 1px solid RGB(0,150,250);\" >\n",
    "<h3 style=\"margin: auto; padding: 20px; color: RGB(0,150,250); \">1.3 Data Cleaning</h3>\n",
    "</div>"
   ]
  },
  {
   "cell_type": "code",
   "execution_count": 13,
   "id": "8e07608b-399a-42b9-a012-620a3c6aded1",
   "metadata": {},
   "outputs": [
    {
     "data": {
      "text/html": [
       "<div>\n",
       "<style scoped>\n",
       "    .dataframe tbody tr th:only-of-type {\n",
       "        vertical-align: middle;\n",
       "    }\n",
       "\n",
       "    .dataframe tbody tr th {\n",
       "        vertical-align: top;\n",
       "    }\n",
       "\n",
       "    .dataframe thead th {\n",
       "        text-align: right;\n",
       "    }\n",
       "</style>\n",
       "<table border=\"1\" class=\"dataframe\">\n",
       "  <thead>\n",
       "    <tr style=\"text-align: right;\">\n",
       "      <th></th>\n",
       "      <th>is_genuine</th>\n",
       "      <th>diagonal</th>\n",
       "      <th>height_left</th>\n",
       "      <th>height_right</th>\n",
       "      <th>margin_low</th>\n",
       "      <th>margin_up</th>\n",
       "      <th>length</th>\n",
       "    </tr>\n",
       "  </thead>\n",
       "  <tbody>\n",
       "    <tr>\n",
       "      <th>0</th>\n",
       "      <td>True</td>\n",
       "      <td>171.81</td>\n",
       "      <td>104.86</td>\n",
       "      <td>104.95</td>\n",
       "      <td>4.52</td>\n",
       "      <td>2.89</td>\n",
       "      <td>112.83</td>\n",
       "    </tr>\n",
       "    <tr>\n",
       "      <th>1</th>\n",
       "      <td>True</td>\n",
       "      <td>171.46</td>\n",
       "      <td>103.36</td>\n",
       "      <td>103.66</td>\n",
       "      <td>3.77</td>\n",
       "      <td>2.99</td>\n",
       "      <td>113.09</td>\n",
       "    </tr>\n",
       "    <tr>\n",
       "      <th>2</th>\n",
       "      <td>True</td>\n",
       "      <td>172.69</td>\n",
       "      <td>104.48</td>\n",
       "      <td>103.50</td>\n",
       "      <td>4.40</td>\n",
       "      <td>2.94</td>\n",
       "      <td>113.16</td>\n",
       "    </tr>\n",
       "    <tr>\n",
       "      <th>3</th>\n",
       "      <td>True</td>\n",
       "      <td>171.36</td>\n",
       "      <td>103.91</td>\n",
       "      <td>103.94</td>\n",
       "      <td>3.62</td>\n",
       "      <td>3.01</td>\n",
       "      <td>113.51</td>\n",
       "    </tr>\n",
       "    <tr>\n",
       "      <th>4</th>\n",
       "      <td>True</td>\n",
       "      <td>171.73</td>\n",
       "      <td>104.28</td>\n",
       "      <td>103.46</td>\n",
       "      <td>4.04</td>\n",
       "      <td>3.48</td>\n",
       "      <td>112.54</td>\n",
       "    </tr>\n",
       "  </tbody>\n",
       "</table>\n",
       "</div>"
      ],
      "text/plain": [
       "   is_genuine  diagonal  height_left  height_right  margin_low  margin_up  \\\n",
       "0        True    171.81       104.86        104.95        4.52       2.89   \n",
       "1        True    171.46       103.36        103.66        3.77       2.99   \n",
       "2        True    172.69       104.48        103.50        4.40       2.94   \n",
       "3        True    171.36       103.91        103.94        3.62       3.01   \n",
       "4        True    171.73       104.28        103.46        4.04       3.48   \n",
       "\n",
       "   length  \n",
       "0  112.83  \n",
       "1  113.09  \n",
       "2  113.16  \n",
       "3  113.51  \n",
       "4  112.54  "
      ]
     },
     "execution_count": 13,
     "metadata": {},
     "output_type": "execute_result"
    }
   ],
   "source": [
    "df.head()"
   ]
  },
  {
   "cell_type": "markdown",
   "id": "fcc4e722-5cd6-40d9-b7bd-1a1c4e7bb12a",
   "metadata": {},
   "source": [
    "### Identification des valeurs manquantes"
   ]
  },
  {
   "cell_type": "code",
   "execution_count": 14,
   "id": "538e0fb6-0197-403e-8447-ae7e2ef9f874",
   "metadata": {},
   "outputs": [
    {
     "data": {
      "text/plain": [
       "is_genuine       0\n",
       "diagonal         0\n",
       "height_left      0\n",
       "height_right     0\n",
       "margin_low      37\n",
       "margin_up        0\n",
       "length           0\n",
       "dtype: int64"
      ]
     },
     "execution_count": 14,
     "metadata": {},
     "output_type": "execute_result"
    }
   ],
   "source": [
    "# identifions les valeurs manquantes\n",
    "df.isna().sum()"
   ]
  },
  {
   "cell_type": "markdown",
   "id": "726eb14f-9d9b-45bd-8bc3-a31f303d128f",
   "metadata": {},
   "source": [
    "> **Nous remarquons des valeurs manquantes au niveau de la colonne margin_low**"
   ]
  },
  {
   "cell_type": "markdown",
   "id": "780c0793-2517-47c2-87ab-aea388b14e64",
   "metadata": {},
   "source": [
    "### Gestion des valeurs manquantes"
   ]
  },
  {
   "cell_type": "markdown",
   "id": "71962651-b0ad-467e-a51b-4e9960ff088b",
   "metadata": {},
   "source": [
    "> **Nous souhaitons compléter les données manquantes au lieu de simplement les supprimer. Une façon d’y parvenir consiste à faire une imputation.\n",
    "Cependant, nous devons distinguer les faux des vrais billets et le margin low peut y contribuer donc il est plus prudent de faire une imputation selon le target.**"
   ]
  },
  {
   "cell_type": "code",
   "execution_count": 15,
   "id": "31ba4c67-685b-45d0-ad9d-5b3969e7f1d8",
   "metadata": {},
   "outputs": [
    {
     "data": {
      "application/vnd.plotly.v1+json": {
       "config": {
        "plotlyServerURL": "https://plot.ly"
       },
       "data": [
        {
         "alignmentgroup": "True",
         "hovertemplate": "is_genuine=%{x}<br>margin_low=%{y}<extra></extra>",
         "legendgroup": "True",
         "marker": {
          "color": "#440154"
         },
         "name": "True",
         "notched": false,
         "offsetgroup": "True",
         "orientation": "v",
         "showlegend": true,
         "type": "box",
         "x": [
          true,
          true,
          true,
          true,
          true,
          true,
          true,
          true,
          true,
          true,
          true,
          true,
          true,
          true,
          true,
          true,
          true,
          true,
          true,
          true,
          true,
          true,
          true,
          true,
          true,
          true,
          true,
          true,
          true,
          true,
          true,
          true,
          true,
          true,
          true,
          true,
          true,
          true,
          true,
          true,
          true,
          true,
          true,
          true,
          true,
          true,
          true,
          true,
          true,
          true,
          true,
          true,
          true,
          true,
          true,
          true,
          true,
          true,
          true,
          true,
          true,
          true,
          true,
          true,
          true,
          true,
          true,
          true,
          true,
          true,
          true,
          true,
          true,
          true,
          true,
          true,
          true,
          true,
          true,
          true,
          true,
          true,
          true,
          true,
          true,
          true,
          true,
          true,
          true,
          true,
          true,
          true,
          true,
          true,
          true,
          true,
          true,
          true,
          true,
          true,
          true,
          true,
          true,
          true,
          true,
          true,
          true,
          true,
          true,
          true,
          true,
          true,
          true,
          true,
          true,
          true,
          true,
          true,
          true,
          true,
          true,
          true,
          true,
          true,
          true,
          true,
          true,
          true,
          true,
          true,
          true,
          true,
          true,
          true,
          true,
          true,
          true,
          true,
          true,
          true,
          true,
          true,
          true,
          true,
          true,
          true,
          true,
          true,
          true,
          true,
          true,
          true,
          true,
          true,
          true,
          true,
          true,
          true,
          true,
          true,
          true,
          true,
          true,
          true,
          true,
          true,
          true,
          true,
          true,
          true,
          true,
          true,
          true,
          true,
          true,
          true,
          true,
          true,
          true,
          true,
          true,
          true,
          true,
          true,
          true,
          true,
          true,
          true,
          true,
          true,
          true,
          true,
          true,
          true,
          true,
          true,
          true,
          true,
          true,
          true,
          true,
          true,
          true,
          true,
          true,
          true,
          true,
          true,
          true,
          true,
          true,
          true,
          true,
          true,
          true,
          true,
          true,
          true,
          true,
          true,
          true,
          true,
          true,
          true,
          true,
          true,
          true,
          true,
          true,
          true,
          true,
          true,
          true,
          true,
          true,
          true,
          true,
          true,
          true,
          true,
          true,
          true,
          true,
          true,
          true,
          true,
          true,
          true,
          true,
          true,
          true,
          true,
          true,
          true,
          true,
          true,
          true,
          true,
          true,
          true,
          true,
          true,
          true,
          true,
          true,
          true,
          true,
          true,
          true,
          true,
          true,
          true,
          true,
          true,
          true,
          true,
          true,
          true,
          true,
          true,
          true,
          true,
          true,
          true,
          true,
          true,
          true,
          true,
          true,
          true,
          true,
          true,
          true,
          true,
          true,
          true,
          true,
          true,
          true,
          true,
          true,
          true,
          true,
          true,
          true,
          true,
          true,
          true,
          true,
          true,
          true,
          true,
          true,
          true,
          true,
          true,
          true,
          true,
          true,
          true,
          true,
          true,
          true,
          true,
          true,
          true,
          true,
          true,
          true,
          true,
          true,
          true,
          true,
          true,
          true,
          true,
          true,
          true,
          true,
          true,
          true,
          true,
          true,
          true,
          true,
          true,
          true,
          true,
          true,
          true,
          true,
          true,
          true,
          true,
          true,
          true,
          true,
          true,
          true,
          true,
          true,
          true,
          true,
          true,
          true,
          true,
          true,
          true,
          true,
          true,
          true,
          true,
          true,
          true,
          true,
          true,
          true,
          true,
          true,
          true,
          true,
          true,
          true,
          true,
          true,
          true,
          true,
          true,
          true,
          true,
          true,
          true,
          true,
          true,
          true,
          true,
          true,
          true,
          true,
          true,
          true,
          true,
          true,
          true,
          true,
          true,
          true,
          true,
          true,
          true,
          true,
          true,
          true,
          true,
          true,
          true,
          true,
          true,
          true,
          true,
          true,
          true,
          true,
          true,
          true,
          true,
          true,
          true,
          true,
          true,
          true,
          true,
          true,
          true,
          true,
          true,
          true,
          true,
          true,
          true,
          true,
          true,
          true,
          true,
          true,
          true,
          true,
          true,
          true,
          true,
          true,
          true,
          true,
          true,
          true,
          true,
          true,
          true,
          true,
          true,
          true,
          true,
          true,
          true,
          true,
          true,
          true,
          true,
          true,
          true,
          true,
          true,
          true,
          true,
          true,
          true,
          true,
          true,
          true,
          true,
          true,
          true,
          true,
          true,
          true,
          true,
          true,
          true,
          true,
          true,
          true,
          true,
          true,
          true,
          true,
          true,
          true,
          true,
          true,
          true,
          true,
          true,
          true,
          true,
          true,
          true,
          true,
          true,
          true,
          true,
          true,
          true,
          true,
          true,
          true,
          true,
          true,
          true,
          true,
          true,
          true,
          true,
          true,
          true,
          true,
          true,
          true,
          true,
          true,
          true,
          true,
          true,
          true,
          true,
          true,
          true,
          true,
          true,
          true,
          true,
          true,
          true,
          true,
          true,
          true,
          true,
          true,
          true,
          true,
          true,
          true,
          true,
          true,
          true,
          true,
          true,
          true,
          true,
          true,
          true,
          true,
          true,
          true,
          true,
          true,
          true,
          true,
          true,
          true,
          true,
          true,
          true,
          true,
          true,
          true,
          true,
          true,
          true,
          true,
          true,
          true,
          true,
          true,
          true,
          true,
          true,
          true,
          true,
          true,
          true,
          true,
          true,
          true,
          true,
          true,
          true,
          true,
          true,
          true,
          true,
          true,
          true,
          true,
          true,
          true,
          true,
          true,
          true,
          true,
          true,
          true,
          true,
          true,
          true,
          true,
          true,
          true,
          true,
          true,
          true,
          true,
          true,
          true,
          true,
          true,
          true,
          true,
          true,
          true,
          true,
          true,
          true,
          true,
          true,
          true,
          true,
          true,
          true,
          true,
          true,
          true,
          true,
          true,
          true,
          true,
          true,
          true,
          true,
          true,
          true,
          true,
          true,
          true,
          true,
          true,
          true,
          true,
          true,
          true,
          true,
          true,
          true,
          true,
          true,
          true,
          true,
          true,
          true,
          true,
          true,
          true,
          true,
          true,
          true,
          true,
          true,
          true,
          true,
          true,
          true,
          true,
          true,
          true,
          true,
          true,
          true,
          true,
          true,
          true,
          true,
          true,
          true,
          true,
          true,
          true,
          true,
          true,
          true,
          true,
          true,
          true,
          true,
          true,
          true,
          true,
          true,
          true,
          true,
          true,
          true,
          true,
          true,
          true,
          true,
          true,
          true,
          true,
          true,
          true,
          true,
          true,
          true,
          true,
          true,
          true,
          true,
          true,
          true,
          true,
          true,
          true,
          true,
          true,
          true,
          true,
          true,
          true,
          true,
          true,
          true,
          true,
          true,
          true,
          true,
          true,
          true,
          true,
          true,
          true,
          true,
          true,
          true,
          true,
          true,
          true,
          true,
          true,
          true,
          true,
          true,
          true,
          true,
          true,
          true,
          true,
          true,
          true,
          true,
          true,
          true,
          true,
          true,
          true,
          true,
          true,
          true,
          true,
          true,
          true,
          true,
          true,
          true,
          true,
          true,
          true,
          true,
          true,
          true,
          true,
          true,
          true,
          true,
          true,
          true,
          true,
          true,
          true,
          true,
          true,
          true,
          true,
          true,
          true,
          true,
          true,
          true,
          true,
          true,
          true,
          true,
          true,
          true,
          true,
          true,
          true,
          true,
          true,
          true,
          true,
          true,
          true,
          true,
          true,
          true,
          true,
          true,
          true,
          true,
          true,
          true,
          true,
          true,
          true,
          true,
          true,
          true,
          true,
          true,
          true,
          true,
          true,
          true,
          true,
          true,
          true,
          true,
          true,
          true,
          true,
          true,
          true,
          true,
          true,
          true,
          true,
          true,
          true,
          true,
          true,
          true,
          true,
          true,
          true,
          true,
          true,
          true,
          true,
          true,
          true,
          true,
          true,
          true,
          true,
          true,
          true,
          true,
          true,
          true,
          true,
          true,
          true,
          true,
          true,
          true,
          true,
          true,
          true,
          true,
          true,
          true,
          true,
          true,
          true,
          true,
          true,
          true,
          true,
          true,
          true,
          true,
          true,
          true,
          true,
          true,
          true,
          true,
          true,
          true,
          true,
          true,
          true,
          true,
          true,
          true,
          true,
          true,
          true,
          true,
          true,
          true,
          true,
          true,
          true,
          true,
          true,
          true,
          true,
          true,
          true,
          true,
          true,
          true,
          true,
          true,
          true,
          true,
          true,
          true,
          true,
          true,
          true,
          true,
          true,
          true,
          true,
          true,
          true,
          true,
          true,
          true,
          true,
          true,
          true,
          true,
          true,
          true,
          true,
          true,
          true,
          true,
          true,
          true,
          true,
          true,
          true,
          true,
          true,
          true,
          true,
          true,
          true,
          true,
          true,
          true,
          true,
          true,
          true,
          true,
          true,
          true,
          true,
          true,
          true,
          true,
          true,
          true,
          true,
          true,
          true,
          true,
          true,
          true,
          true,
          true,
          true,
          true,
          true,
          true,
          true,
          true
         ],
         "x0": " ",
         "xaxis": "x",
         "y": {
          "bdata": "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",
          "dtype": "f8"
         },
         "y0": " ",
         "yaxis": "y"
        },
        {
         "alignmentgroup": "True",
         "hovertemplate": "is_genuine=%{x}<br>margin_low=%{y}<extra></extra>",
         "legendgroup": "False",
         "marker": {
          "color": "#482878"
         },
         "name": "False",
         "notched": false,
         "offsetgroup": "False",
         "orientation": "v",
         "showlegend": true,
         "type": "box",
         "x": [
          false,
          false,
          false,
          false,
          false,
          false,
          false,
          false,
          false,
          false,
          false,
          false,
          false,
          false,
          false,
          false,
          false,
          false,
          false,
          false,
          false,
          false,
          false,
          false,
          false,
          false,
          false,
          false,
          false,
          false,
          false,
          false,
          false,
          false,
          false,
          false,
          false,
          false,
          false,
          false,
          false,
          false,
          false,
          false,
          false,
          false,
          false,
          false,
          false,
          false,
          false,
          false,
          false,
          false,
          false,
          false,
          false,
          false,
          false,
          false,
          false,
          false,
          false,
          false,
          false,
          false,
          false,
          false,
          false,
          false,
          false,
          false,
          false,
          false,
          false,
          false,
          false,
          false,
          false,
          false,
          false,
          false,
          false,
          false,
          false,
          false,
          false,
          false,
          false,
          false,
          false,
          false,
          false,
          false,
          false,
          false,
          false,
          false,
          false,
          false,
          false,
          false,
          false,
          false,
          false,
          false,
          false,
          false,
          false,
          false,
          false,
          false,
          false,
          false,
          false,
          false,
          false,
          false,
          false,
          false,
          false,
          false,
          false,
          false,
          false,
          false,
          false,
          false,
          false,
          false,
          false,
          false,
          false,
          false,
          false,
          false,
          false,
          false,
          false,
          false,
          false,
          false,
          false,
          false,
          false,
          false,
          false,
          false,
          false,
          false,
          false,
          false,
          false,
          false,
          false,
          false,
          false,
          false,
          false,
          false,
          false,
          false,
          false,
          false,
          false,
          false,
          false,
          false,
          false,
          false,
          false,
          false,
          false,
          false,
          false,
          false,
          false,
          false,
          false,
          false,
          false,
          false,
          false,
          false,
          false,
          false,
          false,
          false,
          false,
          false,
          false,
          false,
          false,
          false,
          false,
          false,
          false,
          false,
          false,
          false,
          false,
          false,
          false,
          false,
          false,
          false,
          false,
          false,
          false,
          false,
          false,
          false,
          false,
          false,
          false,
          false,
          false,
          false,
          false,
          false,
          false,
          false,
          false,
          false,
          false,
          false,
          false,
          false,
          false,
          false,
          false,
          false,
          false,
          false,
          false,
          false,
          false,
          false,
          false,
          false,
          false,
          false,
          false,
          false,
          false,
          false,
          false,
          false,
          false,
          false,
          false,
          false,
          false,
          false,
          false,
          false,
          false,
          false,
          false,
          false,
          false,
          false,
          false,
          false,
          false,
          false,
          false,
          false,
          false,
          false,
          false,
          false,
          false,
          false,
          false,
          false,
          false,
          false,
          false,
          false,
          false,
          false,
          false,
          false,
          false,
          false,
          false,
          false,
          false,
          false,
          false,
          false,
          false,
          false,
          false,
          false,
          false,
          false,
          false,
          false,
          false,
          false,
          false,
          false,
          false,
          false,
          false,
          false,
          false,
          false,
          false,
          false,
          false,
          false,
          false,
          false,
          false,
          false,
          false,
          false,
          false,
          false,
          false,
          false,
          false,
          false,
          false,
          false,
          false,
          false,
          false,
          false,
          false,
          false,
          false,
          false,
          false,
          false,
          false,
          false,
          false,
          false,
          false,
          false,
          false,
          false,
          false,
          false,
          false,
          false,
          false,
          false,
          false,
          false,
          false,
          false,
          false,
          false,
          false,
          false,
          false,
          false,
          false,
          false,
          false,
          false,
          false,
          false,
          false,
          false,
          false,
          false,
          false,
          false,
          false,
          false,
          false,
          false,
          false,
          false,
          false,
          false,
          false,
          false,
          false,
          false,
          false,
          false,
          false,
          false,
          false,
          false,
          false,
          false,
          false,
          false,
          false,
          false,
          false,
          false,
          false,
          false,
          false,
          false,
          false,
          false,
          false,
          false,
          false,
          false,
          false,
          false,
          false,
          false,
          false,
          false,
          false,
          false,
          false,
          false,
          false,
          false,
          false,
          false,
          false,
          false,
          false,
          false,
          false,
          false,
          false,
          false,
          false,
          false,
          false,
          false,
          false,
          false,
          false,
          false,
          false,
          false,
          false,
          false,
          false,
          false,
          false,
          false,
          false,
          false,
          false,
          false,
          false,
          false,
          false,
          false,
          false,
          false,
          false,
          false,
          false,
          false,
          false,
          false,
          false,
          false,
          false,
          false,
          false,
          false,
          false,
          false,
          false,
          false,
          false,
          false,
          false,
          false,
          false,
          false,
          false,
          false,
          false,
          false,
          false,
          false,
          false,
          false,
          false,
          false,
          false,
          false,
          false,
          false,
          false,
          false,
          false,
          false,
          false,
          false
         ],
         "x0": " ",
         "xaxis": "x",
         "y": {
          "bdata": "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",
          "dtype": "f8"
         },
         "y0": " ",
         "yaxis": "y"
        }
       ],
       "layout": {
        "boxmode": "overlay",
        "height": 500,
        "legend": {
         "title": {
          "text": "is_genuine"
         },
         "tracegroupgap": 0
        },
        "margin": {
         "t": 60
        },
        "template": {
         "data": {
          "bar": [
           {
            "error_x": {
             "color": "#2a3f5f"
            },
            "error_y": {
             "color": "#2a3f5f"
            },
            "marker": {
             "line": {
              "color": "#E5ECF6",
              "width": 0.5
             },
             "pattern": {
              "fillmode": "overlay",
              "size": 10,
              "solidity": 0.2
             }
            },
            "type": "bar"
           }
          ],
          "barpolar": [
           {
            "marker": {
             "line": {
              "color": "#E5ECF6",
              "width": 0.5
             },
             "pattern": {
              "fillmode": "overlay",
              "size": 10,
              "solidity": 0.2
             }
            },
            "type": "barpolar"
           }
          ],
          "carpet": [
           {
            "aaxis": {
             "endlinecolor": "#2a3f5f",
             "gridcolor": "white",
             "linecolor": "white",
             "minorgridcolor": "white",
             "startlinecolor": "#2a3f5f"
            },
            "baxis": {
             "endlinecolor": "#2a3f5f",
             "gridcolor": "white",
             "linecolor": "white",
             "minorgridcolor": "white",
             "startlinecolor": "#2a3f5f"
            },
            "type": "carpet"
           }
          ],
          "choropleth": [
           {
            "colorbar": {
             "outlinewidth": 0,
             "ticks": ""
            },
            "type": "choropleth"
           }
          ],
          "contour": [
           {
            "colorbar": {
             "outlinewidth": 0,
             "ticks": ""
            },
            "colorscale": [
             [
              0,
              "#0d0887"
             ],
             [
              0.1111111111111111,
              "#46039f"
             ],
             [
              0.2222222222222222,
              "#7201a8"
             ],
             [
              0.3333333333333333,
              "#9c179e"
             ],
             [
              0.4444444444444444,
              "#bd3786"
             ],
             [
              0.5555555555555556,
              "#d8576b"
             ],
             [
              0.6666666666666666,
              "#ed7953"
             ],
             [
              0.7777777777777778,
              "#fb9f3a"
             ],
             [
              0.8888888888888888,
              "#fdca26"
             ],
             [
              1,
              "#f0f921"
             ]
            ],
            "type": "contour"
           }
          ],
          "contourcarpet": [
           {
            "colorbar": {
             "outlinewidth": 0,
             "ticks": ""
            },
            "type": "contourcarpet"
           }
          ],
          "heatmap": [
           {
            "colorbar": {
             "outlinewidth": 0,
             "ticks": ""
            },
            "colorscale": [
             [
              0,
              "#0d0887"
             ],
             [
              0.1111111111111111,
              "#46039f"
             ],
             [
              0.2222222222222222,
              "#7201a8"
             ],
             [
              0.3333333333333333,
              "#9c179e"
             ],
             [
              0.4444444444444444,
              "#bd3786"
             ],
             [
              0.5555555555555556,
              "#d8576b"
             ],
             [
              0.6666666666666666,
              "#ed7953"
             ],
             [
              0.7777777777777778,
              "#fb9f3a"
             ],
             [
              0.8888888888888888,
              "#fdca26"
             ],
             [
              1,
              "#f0f921"
             ]
            ],
            "type": "heatmap"
           }
          ],
          "histogram": [
           {
            "marker": {
             "pattern": {
              "fillmode": "overlay",
              "size": 10,
              "solidity": 0.2
             }
            },
            "type": "histogram"
           }
          ],
          "histogram2d": [
           {
            "colorbar": {
             "outlinewidth": 0,
             "ticks": ""
            },
            "colorscale": [
             [
              0,
              "#0d0887"
             ],
             [
              0.1111111111111111,
              "#46039f"
             ],
             [
              0.2222222222222222,
              "#7201a8"
             ],
             [
              0.3333333333333333,
              "#9c179e"
             ],
             [
              0.4444444444444444,
              "#bd3786"
             ],
             [
              0.5555555555555556,
              "#d8576b"
             ],
             [
              0.6666666666666666,
              "#ed7953"
             ],
             [
              0.7777777777777778,
              "#fb9f3a"
             ],
             [
              0.8888888888888888,
              "#fdca26"
             ],
             [
              1,
              "#f0f921"
             ]
            ],
            "type": "histogram2d"
           }
          ],
          "histogram2dcontour": [
           {
            "colorbar": {
             "outlinewidth": 0,
             "ticks": ""
            },
            "colorscale": [
             [
              0,
              "#0d0887"
             ],
             [
              0.1111111111111111,
              "#46039f"
             ],
             [
              0.2222222222222222,
              "#7201a8"
             ],
             [
              0.3333333333333333,
              "#9c179e"
             ],
             [
              0.4444444444444444,
              "#bd3786"
             ],
             [
              0.5555555555555556,
              "#d8576b"
             ],
             [
              0.6666666666666666,
              "#ed7953"
             ],
             [
              0.7777777777777778,
              "#fb9f3a"
             ],
             [
              0.8888888888888888,
              "#fdca26"
             ],
             [
              1,
              "#f0f921"
             ]
            ],
            "type": "histogram2dcontour"
           }
          ],
          "mesh3d": [
           {
            "colorbar": {
             "outlinewidth": 0,
             "ticks": ""
            },
            "type": "mesh3d"
           }
          ],
          "parcoords": [
           {
            "line": {
             "colorbar": {
              "outlinewidth": 0,
              "ticks": ""
             }
            },
            "type": "parcoords"
           }
          ],
          "pie": [
           {
            "automargin": true,
            "type": "pie"
           }
          ],
          "scatter": [
           {
            "fillpattern": {
             "fillmode": "overlay",
             "size": 10,
             "solidity": 0.2
            },
            "type": "scatter"
           }
          ],
          "scatter3d": [
           {
            "line": {
             "colorbar": {
              "outlinewidth": 0,
              "ticks": ""
             }
            },
            "marker": {
             "colorbar": {
              "outlinewidth": 0,
              "ticks": ""
             }
            },
            "type": "scatter3d"
           }
          ],
          "scattercarpet": [
           {
            "marker": {
             "colorbar": {
              "outlinewidth": 0,
              "ticks": ""
             }
            },
            "type": "scattercarpet"
           }
          ],
          "scattergeo": [
           {
            "marker": {
             "colorbar": {
              "outlinewidth": 0,
              "ticks": ""
             }
            },
            "type": "scattergeo"
           }
          ],
          "scattergl": [
           {
            "marker": {
             "colorbar": {
              "outlinewidth": 0,
              "ticks": ""
             }
            },
            "type": "scattergl"
           }
          ],
          "scattermap": [
           {
            "marker": {
             "colorbar": {
              "outlinewidth": 0,
              "ticks": ""
             }
            },
            "type": "scattermap"
           }
          ],
          "scattermapbox": [
           {
            "marker": {
             "colorbar": {
              "outlinewidth": 0,
              "ticks": ""
             }
            },
            "type": "scattermapbox"
           }
          ],
          "scatterpolar": [
           {
            "marker": {
             "colorbar": {
              "outlinewidth": 0,
              "ticks": ""
             }
            },
            "type": "scatterpolar"
           }
          ],
          "scatterpolargl": [
           {
            "marker": {
             "colorbar": {
              "outlinewidth": 0,
              "ticks": ""
             }
            },
            "type": "scatterpolargl"
           }
          ],
          "scatterternary": [
           {
            "marker": {
             "colorbar": {
              "outlinewidth": 0,
              "ticks": ""
             }
            },
            "type": "scatterternary"
           }
          ],
          "surface": [
           {
            "colorbar": {
             "outlinewidth": 0,
             "ticks": ""
            },
            "colorscale": [
             [
              0,
              "#0d0887"
             ],
             [
              0.1111111111111111,
              "#46039f"
             ],
             [
              0.2222222222222222,
              "#7201a8"
             ],
             [
              0.3333333333333333,
              "#9c179e"
             ],
             [
              0.4444444444444444,
              "#bd3786"
             ],
             [
              0.5555555555555556,
              "#d8576b"
             ],
             [
              0.6666666666666666,
              "#ed7953"
             ],
             [
              0.7777777777777778,
              "#fb9f3a"
             ],
             [
              0.8888888888888888,
              "#fdca26"
             ],
             [
              1,
              "#f0f921"
             ]
            ],
            "type": "surface"
           }
          ],
          "table": [
           {
            "cells": {
             "fill": {
              "color": "#EBF0F8"
             },
             "line": {
              "color": "white"
             }
            },
            "header": {
             "fill": {
              "color": "#C8D4E3"
             },
             "line": {
              "color": "white"
             }
            },
            "type": "table"
           }
          ]
         },
         "layout": {
          "annotationdefaults": {
           "arrowcolor": "#2a3f5f",
           "arrowhead": 0,
           "arrowwidth": 1
          },
          "autotypenumbers": "strict",
          "coloraxis": {
           "colorbar": {
            "outlinewidth": 0,
            "ticks": ""
           }
          },
          "colorscale": {
           "diverging": [
            [
             0,
             "#8e0152"
            ],
            [
             0.1,
             "#c51b7d"
            ],
            [
             0.2,
             "#de77ae"
            ],
            [
             0.3,
             "#f1b6da"
            ],
            [
             0.4,
             "#fde0ef"
            ],
            [
             0.5,
             "#f7f7f7"
            ],
            [
             0.6,
             "#e6f5d0"
            ],
            [
             0.7,
             "#b8e186"
            ],
            [
             0.8,
             "#7fbc41"
            ],
            [
             0.9,
             "#4d9221"
            ],
            [
             1,
             "#276419"
            ]
           ],
           "sequential": [
            [
             0,
             "#0d0887"
            ],
            [
             0.1111111111111111,
             "#46039f"
            ],
            [
             0.2222222222222222,
             "#7201a8"
            ],
            [
             0.3333333333333333,
             "#9c179e"
            ],
            [
             0.4444444444444444,
             "#bd3786"
            ],
            [
             0.5555555555555556,
             "#d8576b"
            ],
            [
             0.6666666666666666,
             "#ed7953"
            ],
            [
             0.7777777777777778,
             "#fb9f3a"
            ],
            [
             0.8888888888888888,
             "#fdca26"
            ],
            [
             1,
             "#f0f921"
            ]
           ],
           "sequentialminus": [
            [
             0,
             "#0d0887"
            ],
            [
             0.1111111111111111,
             "#46039f"
            ],
            [
             0.2222222222222222,
             "#7201a8"
            ],
            [
             0.3333333333333333,
             "#9c179e"
            ],
            [
             0.4444444444444444,
             "#bd3786"
            ],
            [
             0.5555555555555556,
             "#d8576b"
            ],
            [
             0.6666666666666666,
             "#ed7953"
            ],
            [
             0.7777777777777778,
             "#fb9f3a"
            ],
            [
             0.8888888888888888,
             "#fdca26"
            ],
            [
             1,
             "#f0f921"
            ]
           ]
          },
          "colorway": [
           "#636efa",
           "#EF553B",
           "#00cc96",
           "#ab63fa",
           "#FFA15A",
           "#19d3f3",
           "#FF6692",
           "#B6E880",
           "#FF97FF",
           "#FECB52"
          ],
          "font": {
           "color": "#2a3f5f"
          },
          "geo": {
           "bgcolor": "white",
           "lakecolor": "white",
           "landcolor": "#E5ECF6",
           "showlakes": true,
           "showland": true,
           "subunitcolor": "white"
          },
          "hoverlabel": {
           "align": "left"
          },
          "hovermode": "closest",
          "mapbox": {
           "style": "light"
          },
          "paper_bgcolor": "white",
          "plot_bgcolor": "#E5ECF6",
          "polar": {
           "angularaxis": {
            "gridcolor": "white",
            "linecolor": "white",
            "ticks": ""
           },
           "bgcolor": "#E5ECF6",
           "radialaxis": {
            "gridcolor": "white",
            "linecolor": "white",
            "ticks": ""
           }
          },
          "scene": {
           "xaxis": {
            "backgroundcolor": "#E5ECF6",
            "gridcolor": "white",
            "gridwidth": 2,
            "linecolor": "white",
            "showbackground": true,
            "ticks": "",
            "zerolinecolor": "white"
           },
           "yaxis": {
            "backgroundcolor": "#E5ECF6",
            "gridcolor": "white",
            "gridwidth": 2,
            "linecolor": "white",
            "showbackground": true,
            "ticks": "",
            "zerolinecolor": "white"
           },
           "zaxis": {
            "backgroundcolor": "#E5ECF6",
            "gridcolor": "white",
            "gridwidth": 2,
            "linecolor": "white",
            "showbackground": true,
            "ticks": "",
            "zerolinecolor": "white"
           }
          },
          "shapedefaults": {
           "line": {
            "color": "#2a3f5f"
           }
          },
          "ternary": {
           "aaxis": {
            "gridcolor": "white",
            "linecolor": "white",
            "ticks": ""
           },
           "baxis": {
            "gridcolor": "white",
            "linecolor": "white",
            "ticks": ""
           },
           "bgcolor": "#E5ECF6",
           "caxis": {
            "gridcolor": "white",
            "linecolor": "white",
            "ticks": ""
           }
          },
          "title": {
           "x": 0.05
          },
          "xaxis": {
           "automargin": true,
           "gridcolor": "white",
           "linecolor": "white",
           "ticks": "",
           "title": {
            "standoff": 15
           },
           "zerolinecolor": "white",
           "zerolinewidth": 2
          },
          "yaxis": {
           "automargin": true,
           "gridcolor": "white",
           "linecolor": "white",
           "ticks": "",
           "title": {
            "standoff": 15
           },
           "zerolinecolor": "white",
           "zerolinewidth": 2
          }
         }
        },
        "width": 800,
        "xaxis": {
         "anchor": "y",
         "categoryarray": [
          true,
          false
         ],
         "categoryorder": "array",
         "domain": [
          0,
          1
         ],
         "title": {
          "text": "is_genuine"
         }
        },
        "yaxis": {
         "anchor": "x",
         "domain": [
          0,
          1
         ],
         "title": {
          "text": "margin_low"
         }
        }
       }
      }
     },
     "metadata": {},
     "output_type": "display_data"
    }
   ],
   "source": [
    "# Visualisons margin_low : marge entre le bas du billet et l’image (en mm) selon le target\n",
    "import plotly.express as px\n",
    "fig = px.box(df, x = 'is_genuine', y ='margin_low', color = 'is_genuine', color_discrete_sequence= px.colors.sequential.Viridis)\n",
    "fig.update_layout(width=800, height= 500)\n",
    "fig.show()"
   ]
  },
  {
   "cell_type": "markdown",
   "id": "2258a7ac-c8e0-4927-81af-216eeb49667e",
   "metadata": {},
   "source": [
    "### Imputation des Nan"
   ]
  },
  {
   "cell_type": "code",
   "execution_count": 16,
   "id": "52d3aed4-9d64-4ca1-9040-ce8a3dd38249",
   "metadata": {},
   "outputs": [],
   "source": [
    "# Fonction d'imputation des Nan en fonction du type de billet\n",
    "def imputation_Nan_Par_la_mediane (colonnes):\n",
    "    margin_low = colonnes[0]\n",
    "    is_genuine = colonnes [1]\n",
    "    if pd.isnull(margin_low):\n",
    "        if is_genuine == True:\n",
    "            return 4.11\n",
    "        else:  \n",
    "            return 5.19\n",
    "    else:\n",
    "        return margin_low"
   ]
  },
  {
   "cell_type": "code",
   "execution_count": 17,
   "id": "18b73625-f060-4580-ae99-2b5d490020e6",
   "metadata": {},
   "outputs": [
    {
     "name": "stderr",
     "output_type": "stream",
     "text": [
      "C:\\Users\\nouss\\AppData\\Local\\Temp\\ipykernel_6740\\1625979112.py:3: FutureWarning:\n",
      "\n",
      "Series.__getitem__ treating keys as positions is deprecated. In a future version, integer keys will always be treated as labels (consistent with DataFrame behavior). To access a value by position, use `ser.iloc[pos]`\n",
      "\n",
      "C:\\Users\\nouss\\AppData\\Local\\Temp\\ipykernel_6740\\1625979112.py:4: FutureWarning:\n",
      "\n",
      "Series.__getitem__ treating keys as positions is deprecated. In a future version, integer keys will always be treated as labels (consistent with DataFrame behavior). To access a value by position, use `ser.iloc[pos]`\n",
      "\n"
     ]
    }
   ],
   "source": [
    "# Appel de la fonction\n",
    "df['margin_low'] = df[['margin_low','is_genuine']].apply(imputation_Nan_Par_la_mediane, axis=1)"
   ]
  },
  {
   "cell_type": "code",
   "execution_count": 18,
   "id": "b407666e-8a35-42e9-be3a-baf7fbae2485",
   "metadata": {},
   "outputs": [
    {
     "data": {
      "text/plain": [
       "is_genuine      0\n",
       "diagonal        0\n",
       "height_left     0\n",
       "height_right    0\n",
       "margin_low      0\n",
       "margin_up       0\n",
       "length          0\n",
       "dtype: int64"
      ]
     },
     "execution_count": 18,
     "metadata": {},
     "output_type": "execute_result"
    }
   ],
   "source": [
    "# Verification\n",
    "df.isna().sum()"
   ]
  },
  {
   "cell_type": "markdown",
   "id": "bf4b1f65-0d94-4e59-ad17-d12208ef3104",
   "metadata": {},
   "source": [
    "> **A présent notre dataframe est clean on peut passer à la modélisation**"
   ]
  },
  {
   "cell_type": "code",
   "execution_count": 19,
   "id": "07daf57a-9961-45a6-8dbf-54c8bc719e9a",
   "metadata": {},
   "outputs": [],
   "source": [
    "# importons labelEncoder pour la conversion de nos données\n",
    "from sklearn.preprocessing import LabelEncoder\n",
    "label_encoder=LabelEncoder()\n",
    "\n",
    "# Nous allons convertir notre target en variable numérique\n",
    "df['is_genuine']=label_encoder.fit_transform(df['is_genuine'])"
   ]
  },
  {
   "cell_type": "code",
   "execution_count": 20,
   "id": "a7905589-7f98-41e4-82d7-2b65fb94dfbb",
   "metadata": {},
   "outputs": [
    {
     "data": {
      "text/html": [
       "<div>\n",
       "<style scoped>\n",
       "    .dataframe tbody tr th:only-of-type {\n",
       "        vertical-align: middle;\n",
       "    }\n",
       "\n",
       "    .dataframe tbody tr th {\n",
       "        vertical-align: top;\n",
       "    }\n",
       "\n",
       "    .dataframe thead th {\n",
       "        text-align: right;\n",
       "    }\n",
       "</style>\n",
       "<table border=\"1\" class=\"dataframe\">\n",
       "  <thead>\n",
       "    <tr style=\"text-align: right;\">\n",
       "      <th></th>\n",
       "      <th>is_genuine</th>\n",
       "      <th>diagonal</th>\n",
       "      <th>height_left</th>\n",
       "      <th>height_right</th>\n",
       "      <th>margin_low</th>\n",
       "      <th>margin_up</th>\n",
       "      <th>length</th>\n",
       "    </tr>\n",
       "  </thead>\n",
       "  <tbody>\n",
       "    <tr>\n",
       "      <th>0</th>\n",
       "      <td>1</td>\n",
       "      <td>171.81</td>\n",
       "      <td>104.86</td>\n",
       "      <td>104.95</td>\n",
       "      <td>4.52</td>\n",
       "      <td>2.89</td>\n",
       "      <td>112.83</td>\n",
       "    </tr>\n",
       "    <tr>\n",
       "      <th>1</th>\n",
       "      <td>1</td>\n",
       "      <td>171.46</td>\n",
       "      <td>103.36</td>\n",
       "      <td>103.66</td>\n",
       "      <td>3.77</td>\n",
       "      <td>2.99</td>\n",
       "      <td>113.09</td>\n",
       "    </tr>\n",
       "    <tr>\n",
       "      <th>2</th>\n",
       "      <td>1</td>\n",
       "      <td>172.69</td>\n",
       "      <td>104.48</td>\n",
       "      <td>103.50</td>\n",
       "      <td>4.40</td>\n",
       "      <td>2.94</td>\n",
       "      <td>113.16</td>\n",
       "    </tr>\n",
       "    <tr>\n",
       "      <th>3</th>\n",
       "      <td>1</td>\n",
       "      <td>171.36</td>\n",
       "      <td>103.91</td>\n",
       "      <td>103.94</td>\n",
       "      <td>3.62</td>\n",
       "      <td>3.01</td>\n",
       "      <td>113.51</td>\n",
       "    </tr>\n",
       "    <tr>\n",
       "      <th>4</th>\n",
       "      <td>1</td>\n",
       "      <td>171.73</td>\n",
       "      <td>104.28</td>\n",
       "      <td>103.46</td>\n",
       "      <td>4.04</td>\n",
       "      <td>3.48</td>\n",
       "      <td>112.54</td>\n",
       "    </tr>\n",
       "  </tbody>\n",
       "</table>\n",
       "</div>"
      ],
      "text/plain": [
       "   is_genuine  diagonal  height_left  height_right  margin_low  margin_up  \\\n",
       "0           1    171.81       104.86        104.95        4.52       2.89   \n",
       "1           1    171.46       103.36        103.66        3.77       2.99   \n",
       "2           1    172.69       104.48        103.50        4.40       2.94   \n",
       "3           1    171.36       103.91        103.94        3.62       3.01   \n",
       "4           1    171.73       104.28        103.46        4.04       3.48   \n",
       "\n",
       "   length  \n",
       "0  112.83  \n",
       "1  113.09  \n",
       "2  113.16  \n",
       "3  113.51  \n",
       "4  112.54  "
      ]
     },
     "execution_count": 20,
     "metadata": {},
     "output_type": "execute_result"
    }
   ],
   "source": [
    "# verification\n",
    "df.head()"
   ]
  },
  {
   "cell_type": "code",
   "execution_count": 21,
   "id": "52dd87df-b910-45e9-8fae-7dc99b2df178",
   "metadata": {},
   "outputs": [
    {
     "data": {
      "text/plain": [
       "is_genuine\n",
       "1    1000\n",
       "0     500\n",
       "Name: count, dtype: int64"
      ]
     },
     "execution_count": 21,
     "metadata": {},
     "output_type": "execute_result"
    }
   ],
   "source": [
    "df.is_genuine.value_counts()"
   ]
  },
  {
   "cell_type": "markdown",
   "id": "eb4e8e0f-d278-4bbe-821d-6a90fb42fce6",
   "metadata": {},
   "source": [
    "> **Aprés l'encodage:**  \n",
    "> **1** : représente les vrais billets  \n",
    "> **0** : représente les faux billets"
   ]
  },
  {
   "cell_type": "markdown",
   "id": "33eb828c-ca8c-4ae4-a2b3-55e5dc4d9cbc",
   "metadata": {},
   "source": [
    "<div style=\"background-color: RGB(0,150,250);\" >\n",
    "<h2 style=\"margin: auto; padding: 20px; color:#fff; \">2. MODELISATION</h2>\n",
    "</div>"
   ]
  },
  {
   "cell_type": "code",
   "execution_count": 22,
   "id": "449b7f13-bbb5-4a9e-84d4-33866605dbe6",
   "metadata": {},
   "outputs": [],
   "source": [
    "# Définissons nos variables dépendantes et indépendantes\n",
    "X= df.drop(columns=['is_genuine'])\n",
    "y= df.is_genuine"
   ]
  },
  {
   "cell_type": "code",
   "execution_count": 23,
   "id": "92e70a22-0b09-4cd9-a26d-8e31540633de",
   "metadata": {},
   "outputs": [
    {
     "name": "stdout",
     "output_type": "stream",
     "text": [
      "(1500, 6)\n",
      "(1500,)\n"
     ]
    }
   ],
   "source": [
    "# Verification\n",
    "print(X.shape)\n",
    "print(y.shape)"
   ]
  },
  {
   "cell_type": "markdown",
   "id": "426d08ef-507e-411d-9f1e-b1a8755803c0",
   "metadata": {},
   "source": [
    "<div style=\"border: 1px solid RGB(0,150,250);\" >\n",
    "<h3 style=\"margin: auto; padding: 20px; color: RGB(0,150,250); \">1.1 Entrainement des modéles</h3>\n",
    "</div>"
   ]
  },
  {
   "cell_type": "markdown",
   "id": "fe560df0-bb1c-4ab6-9e50-52731c5ba19e",
   "metadata": {},
   "source": [
    "- **Normalisons nos données**"
   ]
  },
  {
   "cell_type": "code",
   "execution_count": 24,
   "id": "56945b69-4072-4336-be9c-4c47e0b1becd",
   "metadata": {},
   "outputs": [],
   "source": [
    "# Normalisation\n",
    "from sklearn.preprocessing import StandardScaler\n",
    "sc = StandardScaler()\n",
    "X = sc.fit_transform(X)"
   ]
  },
  {
   "cell_type": "markdown",
   "id": "3d9f4efc-eef8-4920-9dbd-d5e2326cb237",
   "metadata": {},
   "source": [
    "- **Commençons par diviser nos données en un ensemble d'entrainement et de test.**"
   ]
  },
  {
   "cell_type": "code",
   "execution_count": 25,
   "id": "a4fca17e-fc1a-4a0a-afe8-2b8d2abfbbf1",
   "metadata": {},
   "outputs": [],
   "source": [
    "from sklearn.model_selection import train_test_split\n",
    "X_train, X_test, y_train, y_test = train_test_split(X, y, test_size = 0.2 , random_state = 42)"
   ]
  },
  {
   "cell_type": "markdown",
   "id": "4aeb830c-9f4f-48fa-995b-eca45f2f42a4",
   "metadata": {},
   "source": [
    "- **Importons nos modéles**"
   ]
  },
  {
   "cell_type": "code",
   "execution_count": 26,
   "id": "5867c432-e2c3-4af3-9b2b-3fa480387e8e",
   "metadata": {},
   "outputs": [],
   "source": [
    "# Importons nous algorithmes\n",
    "from sklearn.cluster import KMeans\n",
    "from sklearn.ensemble import RandomForestClassifier\n",
    "from sklearn.linear_model import LogisticRegression\n",
    "from sklearn.neighbors import KNeighborsClassifier\n",
    "\n",
    "\n",
    "from sklearn.metrics import accuracy_score\n",
    "from sklearn.metrics import confusion_matrix, ConfusionMatrixDisplay"
   ]
  },
  {
   "cell_type": "markdown",
   "id": "afa8c875-da15-4378-bd8c-1e24ea987065",
   "metadata": {},
   "source": [
    "- **Entrainons nos modéles**"
   ]
  },
  {
   "cell_type": "code",
   "execution_count": 27,
   "id": "e239e81e-49e0-4971-b304-8bd85f6e76c4",
   "metadata": {},
   "outputs": [
    {
     "data": {
      "text/plain": [
       "{'Regression Logistique': 0.993, 'KNN': 0.987, 'Random Forest': 0.99}"
      ]
     },
     "execution_count": 27,
     "metadata": {},
     "output_type": "execute_result"
    }
   ],
   "source": [
    "# Créons un dictionnaire de données\n",
    "models={\"Regression Logistique\":LogisticRegression(), \"KNN\":KNeighborsClassifier(),\"Random Forest\":RandomForestClassifier()}\n",
    "\n",
    "#Créons notre fonction\n",
    "def fit_score (models,X_train, y_train, X_test, y_test):\n",
    "    models_score={}\n",
    "\n",
    "    for nom,model in models.items():\n",
    "        model.fit(X_train, y_train)\n",
    "        models_score[nom]= round(model.score(X_test, y_test),3)\n",
    "    return models_score\n",
    "\n",
    "# appel de la fonction\n",
    "models_score = fit_score(models=models, X_train=X_train, X_test=X_test, y_train=y_train, y_test=y_test)\n",
    "models_score"
   ]
  },
  {
   "cell_type": "code",
   "execution_count": 28,
   "id": "2fd0e563-3519-465b-9357-5fa2ff6b8a63",
   "metadata": {},
   "outputs": [
    {
     "name": "stderr",
     "output_type": "stream",
     "text": [
      "C:\\Users\\nouss\\anaconda3\\envs\\tf310\\lib\\site-packages\\sklearn\\cluster\\_kmeans.py:1334: UserWarning:\n",
      "\n",
      "KMeans is known to have a memory leak on Windows with MKL, when there are less chunks than available threads. You can avoid it by setting the environment variable OMP_NUM_THREADS=5.\n",
      "\n"
     ]
    },
    {
     "name": "stdout",
     "output_type": "stream",
     "text": [
      "Silhouette Score =  0.34\n"
     ]
    }
   ],
   "source": [
    "# Entraînement KMeans\n",
    "kmeans = KMeans(n_clusters=2, random_state=42)\n",
    "kmeans.fit(X_train)\n",
    "\n",
    "# Prédiction des clusters\n",
    "clusters = kmeans.predict(X_test)\n",
    "\n",
    "# Evaluons notre modèle avec la métrique silhouette\n",
    "from sklearn.metrics import silhouette_score\n",
    "score= round(silhouette_score(X_test,clusters),2)\n",
    "print('Silhouette Score = ',score)"
   ]
  },
  {
   "cell_type": "markdown",
   "id": "c4ea5803-9d25-42c2-8105-04d433b25985",
   "metadata": {},
   "source": [
    "<div style=\"border: 1px solid RGB(0,150,250);\" >\n",
    "<h3 style=\"margin: auto; padding: 20px; color: RGB(0,150,250); \">1.2 Prediction et comparaison des modéles</h3>\n",
    "</div>"
   ]
  },
  {
   "cell_type": "markdown",
   "id": "73743ba2-3e03-42a1-a695-cc787f3cecb0",
   "metadata": {},
   "source": [
    "### KMEANS"
   ]
  },
  {
   "cell_type": "code",
   "execution_count": 29,
   "id": "e37ef18a-d9f6-430c-a7b5-a787e7662c8a",
   "metadata": {},
   "outputs": [
    {
     "data": {
      "image/png": "[encoded data removed]",
      "text/plain": [
       "<Figure size 800x600 with 1 Axes>"
      ]
     },
     "metadata": {},
     "output_type": "display_data"
    }
   ],
   "source": [
    "# Visualisons les résultats de notre prédiction\n",
    "plt.figure(figsize=(8,6))\n",
    "sns.scatterplot(data=df, x='diagonal', y='length', hue= 'is_genuine', palette= 'Set2')\n",
    "plt.title('Visualisation de la Répartition des Clusters')\n",
    "plt.legend(title='Cluster')\n",
    "plt.show()"
   ]
  },
  {
   "cell_type": "code",
   "execution_count": 30,
   "id": "4350218e-7749-4133-95a6-37a7d06af771",
   "metadata": {},
   "outputs": [
    {
     "data": {
      "image/png": "[encoded data removed]",
      "text/plain": [
       "<Figure size 800x600 with 1 Axes>"
      ]
     },
     "metadata": {},
     "output_type": "display_data"
    }
   ],
   "source": [
    "# Visualisons les résultats de notre prédiction\n",
    "plt.figure(figsize=(8,6))\n",
    "sns.scatterplot(data=df, x='margin_up', y='margin_low', hue= 'is_genuine', palette= 'Set2')\n",
    "plt.title('Visualisation de la Répartition des Clusters')\n",
    "plt.legend(title='Cluster')\n",
    "plt.show()"
   ]
  },
  {
   "cell_type": "markdown",
   "id": "a655d0b8-ccbb-48d9-a852-0faa6a7b3518",
   "metadata": {},
   "source": [
    "### LOGISTIC REGRESSION"
   ]
  },
  {
   "cell_type": "code",
   "execution_count": 31,
   "id": "91903b8a-418d-49cb-b93e-dca771ac4831",
   "metadata": {},
   "outputs": [
    {
     "data": {
      "image/png": "[encoded data removed]",
      "text/plain": [
       "<Figure size 640x480 with 2 Axes>"
      ]
     },
     "metadata": {},
     "output_type": "display_data"
    }
   ],
   "source": [
    "lr = LogisticRegression()\n",
    "lr.fit(X_train, y_train)\n",
    "y_pred_lr = lr.predict(X_test)\n",
    "conf_matrix = confusion_matrix(y_test, y_pred_lr)\n",
    "cm_display = ConfusionMatrixDisplay(conf_matrix).plot(cmap=\"Reds\")"
   ]
  },
  {
   "cell_type": "markdown",
   "id": "7c54af3a-0b77-4579-b443-e460d5d8681c",
   "metadata": {},
   "source": [
    "> **Pour rappel**  \n",
    "> **1** : représente les vrais billets  \n",
    "> **0** : représente les faux billets  \n",
    "> **108 faux billets** ont été correctement prédits  \n",
    "> **190 vrais billets** ont été correctement prédits  \n",
    "> Notre modéle a prédit **2 faux billets comme étant de vrais billets**  \n",
    "> 0 vrai billet a été prédit comme étant un faux"
   ]
  },
  {
   "cell_type": "markdown",
   "id": "73756b1b-d1dc-48fb-a910-9154ff4b9073",
   "metadata": {},
   "source": [
    "### KNEIGHBORS CLASSIFIER "
   ]
  },
  {
   "cell_type": "code",
   "execution_count": 32,
   "id": "2b3fa324-0e19-466a-9d89-5e52ef80dee9",
   "metadata": {},
   "outputs": [
    {
     "data": {
      "image/png": "[encoded data removed]",
      "text/plain": [
       "<Figure size 640x480 with 2 Axes>"
      ]
     },
     "metadata": {},
     "output_type": "display_data"
    }
   ],
   "source": [
    "knn = KNeighborsClassifier()\n",
    "knn.fit(X_train, y_train)\n",
    "y_pred_knn = knn.predict(X_test)\n",
    "conf_matrix = confusion_matrix(y_test, y_pred_knn)\n",
    "cm_display = ConfusionMatrixDisplay(conf_matrix).plot(cmap=\"Greens\")"
   ]
  },
  {
   "cell_type": "markdown",
   "id": "e6aa83fe-4e86-478b-9f26-07eccc7a7f72",
   "metadata": {},
   "source": [
    "> **106 faux billets** ont été correctement prédits  \n",
    "> **190 vrais billets** ont été correctement prédits  \n",
    "> Notre modéle a prédit **4 faux billets comme étant de vrais billets**  \n",
    "> 0 vrai billet a été prédit comme étant un faux"
   ]
  },
  {
   "cell_type": "markdown",
   "id": "7e11506c-5b35-4fa1-89b0-092128b59ce5",
   "metadata": {},
   "source": [
    "### RANDOM FOREST CLASSIFIER"
   ]
  },
  {
   "cell_type": "code",
   "execution_count": 33,
   "id": "d17f135e-9cd9-47dc-8be4-d65d477ddc9d",
   "metadata": {},
   "outputs": [
    {
     "data": {
      "image/png": "[encoded data removed]",
      "text/plain": [
       "<Figure size 640x480 with 2 Axes>"
      ]
     },
     "metadata": {},
     "output_type": "display_data"
    }
   ],
   "source": [
    "rf = RandomForestClassifier()\n",
    "rf.fit(X_train, y_train)\n",
    "y_pred_rf = rf.predict(X_test)\n",
    "conf_matrix = confusion_matrix(y_test, y_pred_rf)\n",
    "cm_display = ConfusionMatrixDisplay(conf_matrix).plot(cmap=\"Blues\")"
   ]
  },
  {
   "cell_type": "markdown",
   "id": "0fde0f9f-5ab9-4ed9-9655-548fd5402a40",
   "metadata": {},
   "source": [
    "> **108 faux billets** ont été correctement prédits  \n",
    "> **190 vrais billets** ont été correctement prédits  \n",
    "> Notre modéle a prédit **2 faux billets comme étant de vrais billets**  \n",
    "> 0 vrai billet a été prédit comme étant un faux"
   ]
  },
  {
   "cell_type": "markdown",
   "id": "cebcb715-b152-4117-969b-efbe39f724c3",
   "metadata": {},
   "source": [
    "### COMPARAISON DES MODELES"
   ]
  },
  {
   "cell_type": "markdown",
   "id": "76082c16-82e9-4b74-8d2c-479e11e08bdf",
   "metadata": {},
   "source": [
    "> **Après analyse des matrices de confusion et des scores d'accuracy, les modèles Régression Logistique et Random Forest présentent le même nombre d’erreurs 2 faux négatifs: cela signifie qu’ils ont prédit 2 faux billets comme étant vrais, ce qui représente un risque en matière de sécurité.\n",
    "Toutefois, en comparant leurs performances globales, la Régression Logistique se démarque légèrement avec une accuracy de 0.993, contre 0.990 pour Random Forest.  \n",
    "Elle constitue donc, à ce stade, le modèle le plus performant et le plus fiable pour détecter les faux billets.**"
   ]
  },
  {
   "cell_type": "markdown",
   "id": "e9add008-3ad0-4a97-b472-224de77e7585",
   "metadata": {},
   "source": [
    "<div style=\"border: 1px solid RGB(0,150,250);\" >\n",
    "<h3 style=\"margin: auto; padding: 20px; color: RGB(0,150,250); \">1.3 Sauvegarde du modèle</h3>\n",
    "</div>"
   ]
  },
  {
   "cell_type": "code",
   "execution_count": 34,
   "id": "d7591d5b-0486-43a7-8670-3a8b8b90bcca",
   "metadata": {},
   "outputs": [
    {
     "data": {
      "text/plain": [
       "['model_RegressionLogistic.sav']"
      ]
     },
     "execution_count": 34,
     "metadata": {},
     "output_type": "execute_result"
    }
   ],
   "source": [
    "import joblib \n",
    "model_filename='model_RegressionLogistic.sav'\n",
    "joblib.dump(lr, model_filename)"
   ]
  },
  {
   "cell_type": "code",
   "execution_count": 35,
   "id": "4e9b549c-30e5-4344-9608-9c5724b805fc",
   "metadata": {},
   "outputs": [
    {
     "data": {
      "text/plain": [
       "['standard_scaler.sav']"
      ]
     },
     "execution_count": 35,
     "metadata": {},
     "output_type": "execute_result"
    }
   ],
   "source": [
    "# Enregistrement du scaler ajusté\n",
    "scaler_filename='standard_scaler.sav'\n",
    "joblib.dump(sc, scaler_filename)"
   ]
  },
  {
   "cell_type": "markdown",
   "id": "d7580350-7c11-464d-a31c-b90ebe09166b",
   "metadata": {},
   "source": [
    "<div style=\"background-color: RGB(0,150,250);\" >\n",
    "<h2 style=\"margin: auto; padding: 20px; color:#fff; \">3. PREDICTION SUR DE NOUVELLES DONNEES</h2>\n",
    "</div>"
   ]
  },
  {
   "cell_type": "code",
   "execution_count": 36,
   "id": "b840945f-3dd3-4e1e-b0d1-267e8b83b716",
   "metadata": {},
   "outputs": [
    {
     "data": {
      "text/html": [
       "<div>\n",
       "<style scoped>\n",
       "    .dataframe tbody tr th:only-of-type {\n",
       "        vertical-align: middle;\n",
       "    }\n",
       "\n",
       "    .dataframe tbody tr th {\n",
       "        vertical-align: top;\n",
       "    }\n",
       "\n",
       "    .dataframe thead th {\n",
       "        text-align: right;\n",
       "    }\n",
       "</style>\n",
       "<table border=\"1\" class=\"dataframe\">\n",
       "  <thead>\n",
       "    <tr style=\"text-align: right;\">\n",
       "      <th></th>\n",
       "      <th>diagonal</th>\n",
       "      <th>height_left</th>\n",
       "      <th>height_right</th>\n",
       "      <th>margin_low</th>\n",
       "      <th>margin_up</th>\n",
       "      <th>length</th>\n",
       "    </tr>\n",
       "  </thead>\n",
       "  <tbody>\n",
       "    <tr>\n",
       "      <th>0</th>\n",
       "      <td>172.47</td>\n",
       "      <td>104.07</td>\n",
       "      <td>104.02</td>\n",
       "      <td>4.04</td>\n",
       "      <td>3.25</td>\n",
       "      <td>113.45</td>\n",
       "    </tr>\n",
       "    <tr>\n",
       "      <th>1</th>\n",
       "      <td>171.83</td>\n",
       "      <td>104.14</td>\n",
       "      <td>103.62</td>\n",
       "      <td>3.16</td>\n",
       "      <td>3.18</td>\n",
       "      <td>113.22</td>\n",
       "    </tr>\n",
       "    <tr>\n",
       "      <th>2</th>\n",
       "      <td>171.84</td>\n",
       "      <td>104.59</td>\n",
       "      <td>104.00</td>\n",
       "      <td>3.88</td>\n",
       "      <td>3.27</td>\n",
       "      <td>113.08</td>\n",
       "    </tr>\n",
       "    <tr>\n",
       "      <th>3</th>\n",
       "      <td>171.89</td>\n",
       "      <td>103.89</td>\n",
       "      <td>103.40</td>\n",
       "      <td>4.11</td>\n",
       "      <td>2.96</td>\n",
       "      <td>113.24</td>\n",
       "    </tr>\n",
       "    <tr>\n",
       "      <th>4</th>\n",
       "      <td>172.20</td>\n",
       "      <td>104.35</td>\n",
       "      <td>103.67</td>\n",
       "      <td>4.44</td>\n",
       "      <td>3.38</td>\n",
       "      <td>113.65</td>\n",
       "    </tr>\n",
       "    <tr>\n",
       "      <th>5</th>\n",
       "      <td>172.06</td>\n",
       "      <td>103.87</td>\n",
       "      <td>103.83</td>\n",
       "      <td>4.09</td>\n",
       "      <td>2.92</td>\n",
       "      <td>113.19</td>\n",
       "    </tr>\n",
       "    <tr>\n",
       "      <th>6</th>\n",
       "      <td>171.73</td>\n",
       "      <td>103.92</td>\n",
       "      <td>103.74</td>\n",
       "      <td>4.43</td>\n",
       "      <td>2.78</td>\n",
       "      <td>112.98</td>\n",
       "    </tr>\n",
       "    <tr>\n",
       "      <th>7</th>\n",
       "      <td>171.30</td>\n",
       "      <td>104.19</td>\n",
       "      <td>103.70</td>\n",
       "      <td>4.12</td>\n",
       "      <td>2.82</td>\n",
       "      <td>112.87</td>\n",
       "    </tr>\n",
       "    <tr>\n",
       "      <th>8</th>\n",
       "      <td>171.88</td>\n",
       "      <td>104.47</td>\n",
       "      <td>103.45</td>\n",
       "      <td>4.56</td>\n",
       "      <td>3.33</td>\n",
       "      <td>113.01</td>\n",
       "    </tr>\n",
       "    <tr>\n",
       "      <th>9</th>\n",
       "      <td>172.47</td>\n",
       "      <td>103.89</td>\n",
       "      <td>104.14</td>\n",
       "      <td>3.74</td>\n",
       "      <td>3.28</td>\n",
       "      <td>113.47</td>\n",
       "    </tr>\n",
       "    <tr>\n",
       "      <th>10</th>\n",
       "      <td>171.90</td>\n",
       "      <td>103.67</td>\n",
       "      <td>103.15</td>\n",
       "      <td>4.55</td>\n",
       "      <td>3.15</td>\n",
       "      <td>113.12</td>\n",
       "    </tr>\n",
       "    <tr>\n",
       "      <th>11</th>\n",
       "      <td>171.87</td>\n",
       "      <td>103.91</td>\n",
       "      <td>103.96</td>\n",
       "      <td>3.74</td>\n",
       "      <td>2.97</td>\n",
       "      <td>113.59</td>\n",
       "    </tr>\n",
       "    <tr>\n",
       "      <th>12</th>\n",
       "      <td>171.82</td>\n",
       "      <td>103.65</td>\n",
       "      <td>103.64</td>\n",
       "      <td>4.25</td>\n",
       "      <td>2.80</td>\n",
       "      <td>112.57</td>\n",
       "    </tr>\n",
       "    <tr>\n",
       "      <th>13</th>\n",
       "      <td>172.10</td>\n",
       "      <td>103.96</td>\n",
       "      <td>103.71</td>\n",
       "      <td>3.93</td>\n",
       "      <td>2.89</td>\n",
       "      <td>112.68</td>\n",
       "    </tr>\n",
       "    <tr>\n",
       "      <th>14</th>\n",
       "      <td>172.56</td>\n",
       "      <td>103.85</td>\n",
       "      <td>103.62</td>\n",
       "      <td>3.32</td>\n",
       "      <td>3.13</td>\n",
       "      <td>113.37</td>\n",
       "    </tr>\n",
       "    <tr>\n",
       "      <th>15</th>\n",
       "      <td>172.22</td>\n",
       "      <td>103.75</td>\n",
       "      <td>103.89</td>\n",
       "      <td>4.18</td>\n",
       "      <td>3.19</td>\n",
       "      <td>113.34</td>\n",
       "    </tr>\n",
       "    <tr>\n",
       "      <th>16</th>\n",
       "      <td>172.09</td>\n",
       "      <td>103.63</td>\n",
       "      <td>103.33</td>\n",
       "      <td>4.32</td>\n",
       "      <td>2.88</td>\n",
       "      <td>113.46</td>\n",
       "    </tr>\n",
       "    <tr>\n",
       "      <th>17</th>\n",
       "      <td>171.83</td>\n",
       "      <td>103.44</td>\n",
       "      <td>103.70</td>\n",
       "      <td>4.15</td>\n",
       "      <td>3.10</td>\n",
       "      <td>113.47</td>\n",
       "    </tr>\n",
       "    <tr>\n",
       "      <th>18</th>\n",
       "      <td>171.88</td>\n",
       "      <td>103.92</td>\n",
       "      <td>103.74</td>\n",
       "      <td>4.02</td>\n",
       "      <td>3.17</td>\n",
       "      <td>113.76</td>\n",
       "    </tr>\n",
       "    <tr>\n",
       "      <th>19</th>\n",
       "      <td>172.02</td>\n",
       "      <td>104.18</td>\n",
       "      <td>104.16</td>\n",
       "      <td>3.97</td>\n",
       "      <td>3.23</td>\n",
       "      <td>113.64</td>\n",
       "    </tr>\n",
       "  </tbody>\n",
       "</table>\n",
       "</div>"
      ],
      "text/plain": [
       "    diagonal  height_left  height_right  margin_low  margin_up  length\n",
       "0     172.47       104.07        104.02        4.04       3.25  113.45\n",
       "1     171.83       104.14        103.62        3.16       3.18  113.22\n",
       "2     171.84       104.59        104.00        3.88       3.27  113.08\n",
       "3     171.89       103.89        103.40        4.11       2.96  113.24\n",
       "4     172.20       104.35        103.67        4.44       3.38  113.65\n",
       "5     172.06       103.87        103.83        4.09       2.92  113.19\n",
       "6     171.73       103.92        103.74        4.43       2.78  112.98\n",
       "7     171.30       104.19        103.70        4.12       2.82  112.87\n",
       "8     171.88       104.47        103.45        4.56       3.33  113.01\n",
       "9     172.47       103.89        104.14        3.74       3.28  113.47\n",
       "10    171.90       103.67        103.15        4.55       3.15  113.12\n",
       "11    171.87       103.91        103.96        3.74       2.97  113.59\n",
       "12    171.82       103.65        103.64        4.25       2.80  112.57\n",
       "13    172.10       103.96        103.71        3.93       2.89  112.68\n",
       "14    172.56       103.85        103.62        3.32       3.13  113.37\n",
       "15    172.22       103.75        103.89        4.18       3.19  113.34\n",
       "16    172.09       103.63        103.33        4.32       2.88  113.46\n",
       "17    171.83       103.44        103.70        4.15       3.10  113.47\n",
       "18    171.88       103.92        103.74        4.02       3.17  113.76\n",
       "19    172.02       104.18        104.16        3.97       3.23  113.64"
      ]
     },
     "execution_count": 36,
     "metadata": {},
     "output_type": "execute_result"
    }
   ],
   "source": [
    "df1=pd.read_csv('faux_billets.csv', sep=\";\")\n",
    "df1.head(20)"
   ]
  },
  {
   "cell_type": "code",
   "execution_count": 37,
   "id": "49cbf7f6-3aac-44ca-b6a8-4014a7437235",
   "metadata": {},
   "outputs": [
    {
     "data": {
      "text/plain": [
       "diagonal        0\n",
       "height_left     0\n",
       "height_right    0\n",
       "margin_low      0\n",
       "margin_up       0\n",
       "length          0\n",
       "dtype: int64"
      ]
     },
     "execution_count": 37,
     "metadata": {},
     "output_type": "execute_result"
    }
   ],
   "source": [
    "df1.isna().sum()"
   ]
  },
  {
   "cell_type": "code",
   "execution_count": 38,
   "id": "94df0a36-2690-4e3f-a3c0-e33b3585442c",
   "metadata": {},
   "outputs": [
    {
     "name": "stdout",
     "output_type": "stream",
     "text": [
      "<class 'pandas.core.frame.DataFrame'>\n",
      "RangeIndex: 500 entries, 0 to 499\n",
      "Data columns (total 6 columns):\n",
      " #   Column        Non-Null Count  Dtype  \n",
      "---  ------        --------------  -----  \n",
      " 0   diagonal      500 non-null    float64\n",
      " 1   height_left   500 non-null    float64\n",
      " 2   height_right  500 non-null    float64\n",
      " 3   margin_low    500 non-null    float64\n",
      " 4   margin_up     500 non-null    float64\n",
      " 5   length        500 non-null    float64\n",
      "dtypes: float64(6)\n",
      "memory usage: 23.6 KB\n"
     ]
    }
   ],
   "source": [
    "df1.info()"
   ]
  },
  {
   "cell_type": "code",
   "execution_count": 39,
   "id": "925053f8-01f0-4d3f-9af1-84e716ac3819",
   "metadata": {},
   "outputs": [],
   "source": [
    "model_path = \"model_RegressionLogistic.sav\"\n",
    "scaler_path= \"standard_scaler.sav\"\n",
    "\n",
    "model= joblib.load(model_path)\n",
    "scaler= joblib.load(scaler_path)"
   ]
  },
  {
   "cell_type": "code",
   "execution_count": 40,
   "id": "77dab027-ca7e-4e71-9b03-06bdd8e8f87c",
   "metadata": {},
   "outputs": [],
   "source": [
    "x_test= scaler.fit_transform(df1)"
   ]
  },
  {
   "cell_type": "code",
   "execution_count": 41,
   "id": "428db476-6474-4e03-99ea-3db074934295",
   "metadata": {},
   "outputs": [],
   "source": [
    "y_pred = model.predict(x_test)"
   ]
  },
  {
   "cell_type": "code",
   "execution_count": 42,
   "id": "f3c9ee15-b729-4b02-bc16-c826f074ad7e",
   "metadata": {},
   "outputs": [
    {
     "data": {
      "text/html": [
       "<div>\n",
       "<style scoped>\n",
       "    .dataframe tbody tr th:only-of-type {\n",
       "        vertical-align: middle;\n",
       "    }\n",
       "\n",
       "    .dataframe tbody tr th {\n",
       "        vertical-align: top;\n",
       "    }\n",
       "\n",
       "    .dataframe thead th {\n",
       "        text-align: right;\n",
       "    }\n",
       "</style>\n",
       "<table border=\"1\" class=\"dataframe\">\n",
       "  <thead>\n",
       "    <tr style=\"text-align: right;\">\n",
       "      <th></th>\n",
       "      <th>diagonal</th>\n",
       "      <th>height_left</th>\n",
       "      <th>height_right</th>\n",
       "      <th>margin_low</th>\n",
       "      <th>margin_up</th>\n",
       "      <th>length</th>\n",
       "      <th>prediction</th>\n",
       "    </tr>\n",
       "  </thead>\n",
       "  <tbody>\n",
       "    <tr>\n",
       "      <th>0</th>\n",
       "      <td>172.47</td>\n",
       "      <td>104.07</td>\n",
       "      <td>104.02</td>\n",
       "      <td>4.04</td>\n",
       "      <td>3.25</td>\n",
       "      <td>113.45</td>\n",
       "      <td>1</td>\n",
       "    </tr>\n",
       "    <tr>\n",
       "      <th>1</th>\n",
       "      <td>171.83</td>\n",
       "      <td>104.14</td>\n",
       "      <td>103.62</td>\n",
       "      <td>3.16</td>\n",
       "      <td>3.18</td>\n",
       "      <td>113.22</td>\n",
       "      <td>1</td>\n",
       "    </tr>\n",
       "    <tr>\n",
       "      <th>2</th>\n",
       "      <td>171.84</td>\n",
       "      <td>104.59</td>\n",
       "      <td>104.00</td>\n",
       "      <td>3.88</td>\n",
       "      <td>3.27</td>\n",
       "      <td>113.08</td>\n",
       "      <td>0</td>\n",
       "    </tr>\n",
       "    <tr>\n",
       "      <th>3</th>\n",
       "      <td>171.89</td>\n",
       "      <td>103.89</td>\n",
       "      <td>103.40</td>\n",
       "      <td>4.11</td>\n",
       "      <td>2.96</td>\n",
       "      <td>113.24</td>\n",
       "      <td>1</td>\n",
       "    </tr>\n",
       "    <tr>\n",
       "      <th>4</th>\n",
       "      <td>172.20</td>\n",
       "      <td>104.35</td>\n",
       "      <td>103.67</td>\n",
       "      <td>4.44</td>\n",
       "      <td>3.38</td>\n",
       "      <td>113.65</td>\n",
       "      <td>1</td>\n",
       "    </tr>\n",
       "  </tbody>\n",
       "</table>\n",
       "</div>"
      ],
      "text/plain": [
       "   diagonal  height_left  height_right  margin_low  margin_up  length  \\\n",
       "0    172.47       104.07        104.02        4.04       3.25  113.45   \n",
       "1    171.83       104.14        103.62        3.16       3.18  113.22   \n",
       "2    171.84       104.59        104.00        3.88       3.27  113.08   \n",
       "3    171.89       103.89        103.40        4.11       2.96  113.24   \n",
       "4    172.20       104.35        103.67        4.44       3.38  113.65   \n",
       "\n",
       "   prediction  \n",
       "0           1  \n",
       "1           1  \n",
       "2           0  \n",
       "3           1  \n",
       "4           1  "
      ]
     },
     "execution_count": 42,
     "metadata": {},
     "output_type": "execute_result"
    }
   ],
   "source": [
    "# Mettons nos résultats sur un nouveau DataFrame\n",
    "df1[\"prediction\"] = y_pred\n",
    "df1.head()"
   ]
  },
  {
   "cell_type": "code",
   "execution_count": 43,
   "id": "bd3a3dba-4875-4223-bf19-61f0c1455b0b",
   "metadata": {},
   "outputs": [
    {
     "data": {
      "text/plain": [
       "prediction\n",
       "1    324\n",
       "0    176\n",
       "Name: count, dtype: int64"
      ]
     },
     "execution_count": 43,
     "metadata": {},
     "output_type": "execute_result"
    }
   ],
   "source": [
    "df1[\"prediction\"].value_counts()"
   ]
  },
  {
   "cell_type": "markdown",
   "id": "ecca9552-d2e8-4103-a3c7-3e675a8f77af",
   "metadata": {},
   "source": [
    "> **Notre modéle a prédit sur 500 billets:**     \n",
    ">**- 324 vrais billets**     \n",
    ">**- 176 faux billets**"
   ]
  },
  {
   "cell_type": "markdown",
   "id": "efc6226e-9987-4679-8c61-5ffa5b1832fe",
   "metadata": {},
   "source": [
    "<div style=\"border: 1px solid RGB(0,150,250);\" >\n",
    "<h1 style=\"margin: auto; padding: 20px; color: RGB(0,150,250); \">_________________________________________FIN_____________________________________________</h1>\n",
    "</div>"
   ]
  }
 ],
 "metadata": {
  "kernelspec": {
   "display_name": "Python 3 (ipykernel)",
   "language": "python",
   "name": "python3"
  },
  "language_info": {
   "codemirror_mode": {
    "name": "ipython",
    "version": 3
   },
   "file_extension": ".py",
   "mimetype": "text/x-python",
   "name": "python",
   "nbconvert_exporter": "python",
   "pygments_lexer": "ipython3",
   "version": "3.10.18"
  }
 },
 "nbformat": 4,
 "nbformat_minor": 5
}
